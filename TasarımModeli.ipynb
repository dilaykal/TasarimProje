{
  "cells": [
    {
      "cell_type": "markdown",
      "source": [
        "**GEREKLİ BAĞLILIKLARIN YÜKLENMESİ**\n"
      ],
      "metadata": {
        "id": "nE-pyzJqUimz"
      }
    },
    {
      "cell_type": "code",
      "source": [
        "!pip install langdetect\n",
        "!pip install nltk\n",
        "import nltk\n",
        "nltk.download('stopwords')\n",
        "!pip install openpyxl\n",
        "!pip install --upgrade sympy\n",
        "!pip install --upgrade transformers\n",
        "!pip install pandas scikit-learn openpyxl nltk\n",
        "!pip install transformers torch pandas scikit-learn openpyxl\n",
        "!pip install googletrans==4.0.0-rc1\n",
        "!pip install transformers torch pandas tqdm\n",
        "!pip install transformers torch pandas tqdm scikit-learn matplotlib seaborn openpyxl\n"
      ],
      "metadata": {
        "colab": {
          "base_uri": "https://localhost:8080/"
        },
        "id": "T2EFrLP3K9I8",
        "outputId": "dd3e603a-d2b9-458a-8041-063764bc5d19",
        "collapsed": true
      },
      "execution_count": null,
      "outputs": [
        {
          "output_type": "stream",
          "name": "stdout",
          "text": [
            "Collecting langdetect\n",
            "  Downloading langdetect-1.0.9.tar.gz (981 kB)\n",
            "\u001b[?25l     \u001b[90m━━━━━━━━━━━━━━━━━━━━━━━━━━━━━━━━━━━━━━━━\u001b[0m \u001b[32m0.0/981.5 kB\u001b[0m \u001b[31m?\u001b[0m eta \u001b[36m-:--:--\u001b[0m\r\u001b[2K     \u001b[91m━━━━━━━━━━━━━━━━━━━\u001b[0m\u001b[91m╸\u001b[0m\u001b[90m━━━━━━━━━━━━━━━━━━━━\u001b[0m \u001b[32m481.3/981.5 kB\u001b[0m \u001b[31m15.0 MB/s\u001b[0m eta \u001b[36m0:00:01\u001b[0m\r\u001b[2K     \u001b[90m━━━━━━━━━━━━━━━━━━━━━━━━━━━━━━━━━━━━━━━━\u001b[0m \u001b[32m981.5/981.5 kB\u001b[0m \u001b[31m17.4 MB/s\u001b[0m eta \u001b[36m0:00:00\u001b[0m\n",
            "\u001b[?25h  Preparing metadata (setup.py) ... \u001b[?25l\u001b[?25hdone\n",
            "Requirement already satisfied: six in /usr/local/lib/python3.10/dist-packages (from langdetect) (1.17.0)\n",
            "Building wheels for collected packages: langdetect\n",
            "  Building wheel for langdetect (setup.py) ... \u001b[?25l\u001b[?25hdone\n",
            "  Created wheel for langdetect: filename=langdetect-1.0.9-py3-none-any.whl size=993222 sha256=c8fd0f9150ed3a5129aad673781fb546fb9b65707a6bd8b2ce967edb165b46de\n",
            "  Stored in directory: /root/.cache/pip/wheels/95/03/7d/59ea870c70ce4e5a370638b5462a7711ab78fba2f655d05106\n",
            "Successfully built langdetect\n",
            "Installing collected packages: langdetect\n",
            "Successfully installed langdetect-1.0.9\n",
            "Requirement already satisfied: nltk in /usr/local/lib/python3.10/dist-packages (3.9.1)\n",
            "Requirement already satisfied: click in /usr/local/lib/python3.10/dist-packages (from nltk) (8.1.8)\n",
            "Requirement already satisfied: joblib in /usr/local/lib/python3.10/dist-packages (from nltk) (1.4.2)\n",
            "Requirement already satisfied: regex>=2021.8.3 in /usr/local/lib/python3.10/dist-packages (from nltk) (2024.11.6)\n",
            "Requirement already satisfied: tqdm in /usr/local/lib/python3.10/dist-packages (from nltk) (4.67.1)\n"
          ]
        },
        {
          "output_type": "stream",
          "name": "stderr",
          "text": [
            "[nltk_data] Downloading package stopwords to /root/nltk_data...\n",
            "[nltk_data]   Unzipping corpora/stopwords.zip.\n"
          ]
        },
        {
          "output_type": "stream",
          "name": "stdout",
          "text": [
            "Requirement already satisfied: openpyxl in /usr/local/lib/python3.10/dist-packages (3.1.5)\n",
            "Requirement already satisfied: et-xmlfile in /usr/local/lib/python3.10/dist-packages (from openpyxl) (2.0.0)\n",
            "Requirement already satisfied: sympy in /usr/local/lib/python3.10/dist-packages (1.13.1)\n",
            "Collecting sympy\n",
            "  Downloading sympy-1.13.3-py3-none-any.whl.metadata (12 kB)\n",
            "Requirement already satisfied: mpmath<1.4,>=1.1.0 in /usr/local/lib/python3.10/dist-packages (from sympy) (1.3.0)\n",
            "Downloading sympy-1.13.3-py3-none-any.whl (6.2 MB)\n",
            "\u001b[2K   \u001b[90m━━━━━━━━━━━━━━━━━━━━━━━━━━━━━━━━━━━━━━━━\u001b[0m \u001b[32m6.2/6.2 MB\u001b[0m \u001b[31m65.0 MB/s\u001b[0m eta \u001b[36m0:00:00\u001b[0m\n",
            "\u001b[?25hInstalling collected packages: sympy\n",
            "  Attempting uninstall: sympy\n",
            "    Found existing installation: sympy 1.13.1\n",
            "    Uninstalling sympy-1.13.1:\n",
            "      Successfully uninstalled sympy-1.13.1\n",
            "\u001b[31mERROR: pip's dependency resolver does not currently take into account all the packages that are installed. This behaviour is the source of the following dependency conflicts.\n",
            "torch 2.5.1+cu121 requires sympy==1.13.1; python_version >= \"3.9\", but you have sympy 1.13.3 which is incompatible.\u001b[0m\u001b[31m\n",
            "\u001b[0mSuccessfully installed sympy-1.13.3\n",
            "Requirement already satisfied: transformers in /usr/local/lib/python3.10/dist-packages (4.47.1)\n",
            "Collecting transformers\n",
            "  Downloading transformers-4.48.0-py3-none-any.whl.metadata (44 kB)\n",
            "\u001b[2K     \u001b[90m━━━━━━━━━━━━━━━━━━━━━━━━━━━━━━━━━━━━━━━━\u001b[0m \u001b[32m44.4/44.4 kB\u001b[0m \u001b[31m3.3 MB/s\u001b[0m eta \u001b[36m0:00:00\u001b[0m\n",
            "\u001b[?25hRequirement already satisfied: filelock in /usr/local/lib/python3.10/dist-packages (from transformers) (3.16.1)\n",
            "Requirement already satisfied: huggingface-hub<1.0,>=0.24.0 in /usr/local/lib/python3.10/dist-packages (from transformers) (0.27.1)\n",
            "Requirement already satisfied: numpy>=1.17 in /usr/local/lib/python3.10/dist-packages (from transformers) (1.26.4)\n",
            "Requirement already satisfied: packaging>=20.0 in /usr/local/lib/python3.10/dist-packages (from transformers) (24.2)\n",
            "Requirement already satisfied: pyyaml>=5.1 in /usr/local/lib/python3.10/dist-packages (from transformers) (6.0.2)\n",
            "Requirement already satisfied: regex!=2019.12.17 in /usr/local/lib/python3.10/dist-packages (from transformers) (2024.11.6)\n",
            "Requirement already satisfied: requests in /usr/local/lib/python3.10/dist-packages (from transformers) (2.32.3)\n",
            "Requirement already satisfied: tokenizers<0.22,>=0.21 in /usr/local/lib/python3.10/dist-packages (from transformers) (0.21.0)\n",
            "Requirement already satisfied: safetensors>=0.4.1 in /usr/local/lib/python3.10/dist-packages (from transformers) (0.5.1)\n",
            "Requirement already satisfied: tqdm>=4.27 in /usr/local/lib/python3.10/dist-packages (from transformers) (4.67.1)\n",
            "Requirement already satisfied: fsspec>=2023.5.0 in /usr/local/lib/python3.10/dist-packages (from huggingface-hub<1.0,>=0.24.0->transformers) (2024.10.0)\n",
            "Requirement already satisfied: typing-extensions>=3.7.4.3 in /usr/local/lib/python3.10/dist-packages (from huggingface-hub<1.0,>=0.24.0->transformers) (4.12.2)\n",
            "Requirement already satisfied: charset-normalizer<4,>=2 in /usr/local/lib/python3.10/dist-packages (from requests->transformers) (3.4.1)\n",
            "Requirement already satisfied: idna<4,>=2.5 in /usr/local/lib/python3.10/dist-packages (from requests->transformers) (3.10)\n",
            "Requirement already satisfied: urllib3<3,>=1.21.1 in /usr/local/lib/python3.10/dist-packages (from requests->transformers) (2.3.0)\n",
            "Requirement already satisfied: certifi>=2017.4.17 in /usr/local/lib/python3.10/dist-packages (from requests->transformers) (2024.12.14)\n",
            "Downloading transformers-4.48.0-py3-none-any.whl (9.7 MB)\n",
            "\u001b[2K   \u001b[90m━━━━━━━━━━━━━━━━━━━━━━━━━━━━━━━━━━━━━━━━\u001b[0m \u001b[32m9.7/9.7 MB\u001b[0m \u001b[31m57.5 MB/s\u001b[0m eta \u001b[36m0:00:00\u001b[0m\n",
            "\u001b[?25hInstalling collected packages: transformers\n",
            "  Attempting uninstall: transformers\n",
            "    Found existing installation: transformers 4.47.1\n",
            "    Uninstalling transformers-4.47.1:\n",
            "      Successfully uninstalled transformers-4.47.1\n",
            "Successfully installed transformers-4.48.0\n",
            "Requirement already satisfied: pandas in /usr/local/lib/python3.10/dist-packages (2.2.2)\n",
            "Requirement already satisfied: scikit-learn in /usr/local/lib/python3.10/dist-packages (1.6.0)\n",
            "Requirement already satisfied: openpyxl in /usr/local/lib/python3.10/dist-packages (3.1.5)\n",
            "Requirement already satisfied: nltk in /usr/local/lib/python3.10/dist-packages (3.9.1)\n",
            "Requirement already satisfied: numpy>=1.22.4 in /usr/local/lib/python3.10/dist-packages (from pandas) (1.26.4)\n",
            "Requirement already satisfied: python-dateutil>=2.8.2 in /usr/local/lib/python3.10/dist-packages (from pandas) (2.8.2)\n",
            "Requirement already satisfied: pytz>=2020.1 in /usr/local/lib/python3.10/dist-packages (from pandas) (2024.2)\n",
            "Requirement already satisfied: tzdata>=2022.7 in /usr/local/lib/python3.10/dist-packages (from pandas) (2024.2)\n",
            "Requirement already satisfied: scipy>=1.6.0 in /usr/local/lib/python3.10/dist-packages (from scikit-learn) (1.13.1)\n",
            "Requirement already satisfied: joblib>=1.2.0 in /usr/local/lib/python3.10/dist-packages (from scikit-learn) (1.4.2)\n",
            "Requirement already satisfied: threadpoolctl>=3.1.0 in /usr/local/lib/python3.10/dist-packages (from scikit-learn) (3.5.0)\n",
            "Requirement already satisfied: et-xmlfile in /usr/local/lib/python3.10/dist-packages (from openpyxl) (2.0.0)\n",
            "Requirement already satisfied: click in /usr/local/lib/python3.10/dist-packages (from nltk) (8.1.8)\n",
            "Requirement already satisfied: regex>=2021.8.3 in /usr/local/lib/python3.10/dist-packages (from nltk) (2024.11.6)\n",
            "Requirement already satisfied: tqdm in /usr/local/lib/python3.10/dist-packages (from nltk) (4.67.1)\n",
            "Requirement already satisfied: six>=1.5 in /usr/local/lib/python3.10/dist-packages (from python-dateutil>=2.8.2->pandas) (1.17.0)\n",
            "Requirement already satisfied: transformers in /usr/local/lib/python3.10/dist-packages (4.48.0)\n",
            "Requirement already satisfied: torch in /usr/local/lib/python3.10/dist-packages (2.5.1+cu121)\n",
            "Requirement already satisfied: pandas in /usr/local/lib/python3.10/dist-packages (2.2.2)\n",
            "Requirement already satisfied: scikit-learn in /usr/local/lib/python3.10/dist-packages (1.6.0)\n",
            "Requirement already satisfied: openpyxl in /usr/local/lib/python3.10/dist-packages (3.1.5)\n",
            "Requirement already satisfied: filelock in /usr/local/lib/python3.10/dist-packages (from transformers) (3.16.1)\n",
            "Requirement already satisfied: huggingface-hub<1.0,>=0.24.0 in /usr/local/lib/python3.10/dist-packages (from transformers) (0.27.1)\n",
            "Requirement already satisfied: numpy>=1.17 in /usr/local/lib/python3.10/dist-packages (from transformers) (1.26.4)\n",
            "Requirement already satisfied: packaging>=20.0 in /usr/local/lib/python3.10/dist-packages (from transformers) (24.2)\n",
            "Requirement already satisfied: pyyaml>=5.1 in /usr/local/lib/python3.10/dist-packages (from transformers) (6.0.2)\n",
            "Requirement already satisfied: regex!=2019.12.17 in /usr/local/lib/python3.10/dist-packages (from transformers) (2024.11.6)\n",
            "Requirement already satisfied: requests in /usr/local/lib/python3.10/dist-packages (from transformers) (2.32.3)\n",
            "Requirement already satisfied: tokenizers<0.22,>=0.21 in /usr/local/lib/python3.10/dist-packages (from transformers) (0.21.0)\n",
            "Requirement already satisfied: safetensors>=0.4.1 in /usr/local/lib/python3.10/dist-packages (from transformers) (0.5.1)\n",
            "Requirement already satisfied: tqdm>=4.27 in /usr/local/lib/python3.10/dist-packages (from transformers) (4.67.1)\n",
            "Requirement already satisfied: typing-extensions>=4.8.0 in /usr/local/lib/python3.10/dist-packages (from torch) (4.12.2)\n",
            "Requirement already satisfied: networkx in /usr/local/lib/python3.10/dist-packages (from torch) (3.4.2)\n",
            "Requirement already satisfied: jinja2 in /usr/local/lib/python3.10/dist-packages (from torch) (3.1.5)\n",
            "Requirement already satisfied: fsspec in /usr/local/lib/python3.10/dist-packages (from torch) (2024.10.0)\n",
            "Collecting sympy==1.13.1 (from torch)\n",
            "  Downloading sympy-1.13.1-py3-none-any.whl.metadata (12 kB)\n",
            "Requirement already satisfied: mpmath<1.4,>=1.1.0 in /usr/local/lib/python3.10/dist-packages (from sympy==1.13.1->torch) (1.3.0)\n",
            "Requirement already satisfied: python-dateutil>=2.8.2 in /usr/local/lib/python3.10/dist-packages (from pandas) (2.8.2)\n",
            "Requirement already satisfied: pytz>=2020.1 in /usr/local/lib/python3.10/dist-packages (from pandas) (2024.2)\n",
            "Requirement already satisfied: tzdata>=2022.7 in /usr/local/lib/python3.10/dist-packages (from pandas) (2024.2)\n",
            "Requirement already satisfied: scipy>=1.6.0 in /usr/local/lib/python3.10/dist-packages (from scikit-learn) (1.13.1)\n",
            "Requirement already satisfied: joblib>=1.2.0 in /usr/local/lib/python3.10/dist-packages (from scikit-learn) (1.4.2)\n",
            "Requirement already satisfied: threadpoolctl>=3.1.0 in /usr/local/lib/python3.10/dist-packages (from scikit-learn) (3.5.0)\n",
            "Requirement already satisfied: et-xmlfile in /usr/local/lib/python3.10/dist-packages (from openpyxl) (2.0.0)\n",
            "Requirement already satisfied: six>=1.5 in /usr/local/lib/python3.10/dist-packages (from python-dateutil>=2.8.2->pandas) (1.17.0)\n",
            "Requirement already satisfied: MarkupSafe>=2.0 in /usr/local/lib/python3.10/dist-packages (from jinja2->torch) (3.0.2)\n",
            "Requirement already satisfied: charset-normalizer<4,>=2 in /usr/local/lib/python3.10/dist-packages (from requests->transformers) (3.4.1)\n",
            "Requirement already satisfied: idna<4,>=2.5 in /usr/local/lib/python3.10/dist-packages (from requests->transformers) (3.10)\n",
            "Requirement already satisfied: urllib3<3,>=1.21.1 in /usr/local/lib/python3.10/dist-packages (from requests->transformers) (2.3.0)\n",
            "Requirement already satisfied: certifi>=2017.4.17 in /usr/local/lib/python3.10/dist-packages (from requests->transformers) (2024.12.14)\n",
            "Downloading sympy-1.13.1-py3-none-any.whl (6.2 MB)\n",
            "\u001b[2K   \u001b[90m━━━━━━━━━━━━━━━━━━━━━━━━━━━━━━━━━━━━━━━━\u001b[0m \u001b[32m6.2/6.2 MB\u001b[0m \u001b[31m41.1 MB/s\u001b[0m eta \u001b[36m0:00:00\u001b[0m\n",
            "\u001b[?25hInstalling collected packages: sympy\n",
            "  Attempting uninstall: sympy\n",
            "    Found existing installation: sympy 1.13.3\n",
            "    Uninstalling sympy-1.13.3:\n",
            "      Successfully uninstalled sympy-1.13.3\n",
            "Successfully installed sympy-1.13.1\n",
            "Collecting googletrans==4.0.0-rc1\n",
            "  Downloading googletrans-4.0.0rc1.tar.gz (20 kB)\n",
            "  Preparing metadata (setup.py) ... \u001b[?25l\u001b[?25hdone\n",
            "Collecting httpx==0.13.3 (from googletrans==4.0.0-rc1)\n",
            "  Downloading httpx-0.13.3-py3-none-any.whl.metadata (25 kB)\n",
            "Requirement already satisfied: certifi in /usr/local/lib/python3.10/dist-packages (from httpx==0.13.3->googletrans==4.0.0-rc1) (2024.12.14)\n",
            "Collecting hstspreload (from httpx==0.13.3->googletrans==4.0.0-rc1)\n",
            "  Downloading hstspreload-2025.1.1-py3-none-any.whl.metadata (2.1 kB)\n",
            "Requirement already satisfied: sniffio in /usr/local/lib/python3.10/dist-packages (from httpx==0.13.3->googletrans==4.0.0-rc1) (1.3.1)\n",
            "Collecting chardet==3.* (from httpx==0.13.3->googletrans==4.0.0-rc1)\n",
            "  Downloading chardet-3.0.4-py2.py3-none-any.whl.metadata (3.2 kB)\n",
            "Collecting idna==2.* (from httpx==0.13.3->googletrans==4.0.0-rc1)\n",
            "  Downloading idna-2.10-py2.py3-none-any.whl.metadata (9.1 kB)\n",
            "Collecting rfc3986<2,>=1.3 (from httpx==0.13.3->googletrans==4.0.0-rc1)\n",
            "  Downloading rfc3986-1.5.0-py2.py3-none-any.whl.metadata (6.5 kB)\n",
            "Collecting httpcore==0.9.* (from httpx==0.13.3->googletrans==4.0.0-rc1)\n",
            "  Downloading httpcore-0.9.1-py3-none-any.whl.metadata (4.6 kB)\n",
            "Collecting h11<0.10,>=0.8 (from httpcore==0.9.*->httpx==0.13.3->googletrans==4.0.0-rc1)\n",
            "  Downloading h11-0.9.0-py2.py3-none-any.whl.metadata (8.1 kB)\n",
            "Collecting h2==3.* (from httpcore==0.9.*->httpx==0.13.3->googletrans==4.0.0-rc1)\n",
            "  Downloading h2-3.2.0-py2.py3-none-any.whl.metadata (32 kB)\n",
            "Collecting hyperframe<6,>=5.2.0 (from h2==3.*->httpcore==0.9.*->httpx==0.13.3->googletrans==4.0.0-rc1)\n",
            "  Downloading hyperframe-5.2.0-py2.py3-none-any.whl.metadata (7.2 kB)\n",
            "Collecting hpack<4,>=3.0 (from h2==3.*->httpcore==0.9.*->httpx==0.13.3->googletrans==4.0.0-rc1)\n",
            "  Downloading hpack-3.0.0-py2.py3-none-any.whl.metadata (7.0 kB)\n",
            "Downloading httpx-0.13.3-py3-none-any.whl (55 kB)\n",
            "\u001b[2K   \u001b[90m━━━━━━━━━━━━━━━━━━━━━━━━━━━━━━━━━━━━━━━━\u001b[0m \u001b[32m55.1/55.1 kB\u001b[0m \u001b[31m5.9 MB/s\u001b[0m eta \u001b[36m0:00:00\u001b[0m\n",
            "\u001b[?25hDownloading chardet-3.0.4-py2.py3-none-any.whl (133 kB)\n",
            "\u001b[2K   \u001b[90m━━━━━━━━━━━━━━━━━━━━━━━━━━━━━━━━━━━━━━━━\u001b[0m \u001b[32m133.4/133.4 kB\u001b[0m \u001b[31m13.9 MB/s\u001b[0m eta \u001b[36m0:00:00\u001b[0m\n",
            "\u001b[?25hDownloading httpcore-0.9.1-py3-none-any.whl (42 kB)\n",
            "\u001b[2K   \u001b[90m━━━━━━━━━━━━━━━━━━━━━━━━━━━━━━━━━━━━━━━━\u001b[0m \u001b[32m42.6/42.6 kB\u001b[0m \u001b[31m4.0 MB/s\u001b[0m eta \u001b[36m0:00:00\u001b[0m\n",
            "\u001b[?25hDownloading idna-2.10-py2.py3-none-any.whl (58 kB)\n",
            "\u001b[2K   \u001b[90m━━━━━━━━━━━━━━━━━━━━━━━━━━━━━━━━━━━━━━━━\u001b[0m \u001b[32m58.8/58.8 kB\u001b[0m \u001b[31m5.4 MB/s\u001b[0m eta \u001b[36m0:00:00\u001b[0m\n",
            "\u001b[?25hDownloading h2-3.2.0-py2.py3-none-any.whl (65 kB)\n",
            "\u001b[2K   \u001b[90m━━━━━━━━━━━━━━━━━━━━━━━━━━━━━━━━━━━━━━━━\u001b[0m \u001b[32m65.0/65.0 kB\u001b[0m \u001b[31m6.4 MB/s\u001b[0m eta \u001b[36m0:00:00\u001b[0m\n",
            "\u001b[?25hDownloading rfc3986-1.5.0-py2.py3-none-any.whl (31 kB)\n",
            "Downloading hstspreload-2025.1.1-py3-none-any.whl (1.3 MB)\n",
            "\u001b[2K   \u001b[90m━━━━━━━━━━━━━━━━━━━━━━━━━━━━━━━━━━━━━━━━\u001b[0m \u001b[32m1.3/1.3 MB\u001b[0m \u001b[31m45.9 MB/s\u001b[0m eta \u001b[36m0:00:00\u001b[0m\n",
            "\u001b[?25hDownloading h11-0.9.0-py2.py3-none-any.whl (53 kB)\n",
            "\u001b[2K   \u001b[90m━━━━━━━━━━━━━━━━━━━━━━━━━━━━━━━━━━━━━━━━\u001b[0m \u001b[32m53.6/53.6 kB\u001b[0m \u001b[31m5.3 MB/s\u001b[0m eta \u001b[36m0:00:00\u001b[0m\n",
            "\u001b[?25hDownloading hpack-3.0.0-py2.py3-none-any.whl (38 kB)\n",
            "Downloading hyperframe-5.2.0-py2.py3-none-any.whl (12 kB)\n",
            "Building wheels for collected packages: googletrans\n",
            "  Building wheel for googletrans (setup.py) ... \u001b[?25l\u001b[?25hdone\n",
            "  Created wheel for googletrans: filename=googletrans-4.0.0rc1-py3-none-any.whl size=17397 sha256=3e19c8ef10082de8118c5d8dd48948ec94a1af0f0cc0ec2d192940cb0af4c55f\n",
            "  Stored in directory: /root/.cache/pip/wheels/c0/59/9f/7372f0cf70160fe61b528532e1a7c8498c4becd6bcffb022de\n",
            "Successfully built googletrans\n",
            "Installing collected packages: rfc3986, hyperframe, hpack, h11, chardet, idna, hstspreload, h2, httpcore, httpx, googletrans\n",
            "  Attempting uninstall: h11\n",
            "    Found existing installation: h11 0.14.0\n",
            "    Uninstalling h11-0.14.0:\n",
            "      Successfully uninstalled h11-0.14.0\n",
            "  Attempting uninstall: chardet\n",
            "    Found existing installation: chardet 5.2.0\n",
            "    Uninstalling chardet-5.2.0:\n",
            "      Successfully uninstalled chardet-5.2.0\n",
            "  Attempting uninstall: idna\n",
            "    Found existing installation: idna 3.10\n",
            "    Uninstalling idna-3.10:\n",
            "      Successfully uninstalled idna-3.10\n",
            "  Attempting uninstall: httpcore\n",
            "    Found existing installation: httpcore 1.0.7\n",
            "    Uninstalling httpcore-1.0.7:\n",
            "      Successfully uninstalled httpcore-1.0.7\n",
            "  Attempting uninstall: httpx\n",
            "    Found existing installation: httpx 0.28.1\n",
            "    Uninstalling httpx-0.28.1:\n",
            "      Successfully uninstalled httpx-0.28.1\n",
            "\u001b[31mERROR: pip's dependency resolver does not currently take into account all the packages that are installed. This behaviour is the source of the following dependency conflicts.\n",
            "langsmith 0.2.10 requires httpx<1,>=0.23.0, but you have httpx 0.13.3 which is incompatible.\n",
            "openai 1.59.4 requires httpx<1,>=0.23.0, but you have httpx 0.13.3 which is incompatible.\u001b[0m\u001b[31m\n",
            "\u001b[0mSuccessfully installed chardet-3.0.4 googletrans-4.0.0rc1 h11-0.9.0 h2-3.2.0 hpack-3.0.0 hstspreload-2025.1.1 httpcore-0.9.1 httpx-0.13.3 hyperframe-5.2.0 idna-2.10 rfc3986-1.5.0\n",
            "Requirement already satisfied: transformers in /usr/local/lib/python3.10/dist-packages (4.48.0)\n",
            "Requirement already satisfied: torch in /usr/local/lib/python3.10/dist-packages (2.5.1+cu121)\n",
            "Requirement already satisfied: pandas in /usr/local/lib/python3.10/dist-packages (2.2.2)\n",
            "Requirement already satisfied: tqdm in /usr/local/lib/python3.10/dist-packages (4.67.1)\n",
            "Requirement already satisfied: filelock in /usr/local/lib/python3.10/dist-packages (from transformers) (3.16.1)\n",
            "Requirement already satisfied: huggingface-hub<1.0,>=0.24.0 in /usr/local/lib/python3.10/dist-packages (from transformers) (0.27.1)\n",
            "Requirement already satisfied: numpy>=1.17 in /usr/local/lib/python3.10/dist-packages (from transformers) (1.26.4)\n",
            "Requirement already satisfied: packaging>=20.0 in /usr/local/lib/python3.10/dist-packages (from transformers) (24.2)\n",
            "Requirement already satisfied: pyyaml>=5.1 in /usr/local/lib/python3.10/dist-packages (from transformers) (6.0.2)\n",
            "Requirement already satisfied: regex!=2019.12.17 in /usr/local/lib/python3.10/dist-packages (from transformers) (2024.11.6)\n",
            "Requirement already satisfied: requests in /usr/local/lib/python3.10/dist-packages (from transformers) (2.32.3)\n",
            "Requirement already satisfied: tokenizers<0.22,>=0.21 in /usr/local/lib/python3.10/dist-packages (from transformers) (0.21.0)\n",
            "Requirement already satisfied: safetensors>=0.4.1 in /usr/local/lib/python3.10/dist-packages (from transformers) (0.5.1)\n",
            "Requirement already satisfied: typing-extensions>=4.8.0 in /usr/local/lib/python3.10/dist-packages (from torch) (4.12.2)\n",
            "Requirement already satisfied: networkx in /usr/local/lib/python3.10/dist-packages (from torch) (3.4.2)\n",
            "Requirement already satisfied: jinja2 in /usr/local/lib/python3.10/dist-packages (from torch) (3.1.5)\n",
            "Requirement already satisfied: fsspec in /usr/local/lib/python3.10/dist-packages (from torch) (2024.10.0)\n",
            "Requirement already satisfied: sympy==1.13.1 in /usr/local/lib/python3.10/dist-packages (from torch) (1.13.1)\n",
            "Requirement already satisfied: mpmath<1.4,>=1.1.0 in /usr/local/lib/python3.10/dist-packages (from sympy==1.13.1->torch) (1.3.0)\n",
            "Requirement already satisfied: python-dateutil>=2.8.2 in /usr/local/lib/python3.10/dist-packages (from pandas) (2.8.2)\n",
            "Requirement already satisfied: pytz>=2020.1 in /usr/local/lib/python3.10/dist-packages (from pandas) (2024.2)\n",
            "Requirement already satisfied: tzdata>=2022.7 in /usr/local/lib/python3.10/dist-packages (from pandas) (2024.2)\n",
            "Requirement already satisfied: six>=1.5 in /usr/local/lib/python3.10/dist-packages (from python-dateutil>=2.8.2->pandas) (1.17.0)\n",
            "Requirement already satisfied: MarkupSafe>=2.0 in /usr/local/lib/python3.10/dist-packages (from jinja2->torch) (3.0.2)\n",
            "Requirement already satisfied: charset-normalizer<4,>=2 in /usr/local/lib/python3.10/dist-packages (from requests->transformers) (3.4.1)\n",
            "Requirement already satisfied: idna<4,>=2.5 in /usr/local/lib/python3.10/dist-packages (from requests->transformers) (2.10)\n",
            "Requirement already satisfied: urllib3<3,>=1.21.1 in /usr/local/lib/python3.10/dist-packages (from requests->transformers) (2.3.0)\n",
            "Requirement already satisfied: certifi>=2017.4.17 in /usr/local/lib/python3.10/dist-packages (from requests->transformers) (2024.12.14)\n",
            "Requirement already satisfied: transformers in /usr/local/lib/python3.10/dist-packages (4.48.0)\n",
            "Requirement already satisfied: torch in /usr/local/lib/python3.10/dist-packages (2.5.1+cu121)\n",
            "Requirement already satisfied: pandas in /usr/local/lib/python3.10/dist-packages (2.2.2)\n",
            "Requirement already satisfied: tqdm in /usr/local/lib/python3.10/dist-packages (4.67.1)\n",
            "Requirement already satisfied: scikit-learn in /usr/local/lib/python3.10/dist-packages (1.6.0)\n",
            "Requirement already satisfied: matplotlib in /usr/local/lib/python3.10/dist-packages (3.10.0)\n",
            "Requirement already satisfied: seaborn in /usr/local/lib/python3.10/dist-packages (0.13.2)\n",
            "Requirement already satisfied: openpyxl in /usr/local/lib/python3.10/dist-packages (3.1.5)\n",
            "Requirement already satisfied: filelock in /usr/local/lib/python3.10/dist-packages (from transformers) (3.16.1)\n",
            "Requirement already satisfied: huggingface-hub<1.0,>=0.24.0 in /usr/local/lib/python3.10/dist-packages (from transformers) (0.27.1)\n",
            "Requirement already satisfied: numpy>=1.17 in /usr/local/lib/python3.10/dist-packages (from transformers) (1.26.4)\n",
            "Requirement already satisfied: packaging>=20.0 in /usr/local/lib/python3.10/dist-packages (from transformers) (24.2)\n",
            "Requirement already satisfied: pyyaml>=5.1 in /usr/local/lib/python3.10/dist-packages (from transformers) (6.0.2)\n",
            "Requirement already satisfied: regex!=2019.12.17 in /usr/local/lib/python3.10/dist-packages (from transformers) (2024.11.6)\n",
            "Requirement already satisfied: requests in /usr/local/lib/python3.10/dist-packages (from transformers) (2.32.3)\n",
            "Requirement already satisfied: tokenizers<0.22,>=0.21 in /usr/local/lib/python3.10/dist-packages (from transformers) (0.21.0)\n",
            "Requirement already satisfied: safetensors>=0.4.1 in /usr/local/lib/python3.10/dist-packages (from transformers) (0.5.1)\n",
            "Requirement already satisfied: typing-extensions>=4.8.0 in /usr/local/lib/python3.10/dist-packages (from torch) (4.12.2)\n",
            "Requirement already satisfied: networkx in /usr/local/lib/python3.10/dist-packages (from torch) (3.4.2)\n",
            "Requirement already satisfied: jinja2 in /usr/local/lib/python3.10/dist-packages (from torch) (3.1.5)\n",
            "Requirement already satisfied: fsspec in /usr/local/lib/python3.10/dist-packages (from torch) (2024.10.0)\n",
            "Requirement already satisfied: sympy==1.13.1 in /usr/local/lib/python3.10/dist-packages (from torch) (1.13.1)\n",
            "Requirement already satisfied: mpmath<1.4,>=1.1.0 in /usr/local/lib/python3.10/dist-packages (from sympy==1.13.1->torch) (1.3.0)\n",
            "Requirement already satisfied: python-dateutil>=2.8.2 in /usr/local/lib/python3.10/dist-packages (from pandas) (2.8.2)\n",
            "Requirement already satisfied: pytz>=2020.1 in /usr/local/lib/python3.10/dist-packages (from pandas) (2024.2)\n",
            "Requirement already satisfied: tzdata>=2022.7 in /usr/local/lib/python3.10/dist-packages (from pandas) (2024.2)\n",
            "Requirement already satisfied: scipy>=1.6.0 in /usr/local/lib/python3.10/dist-packages (from scikit-learn) (1.13.1)\n",
            "Requirement already satisfied: joblib>=1.2.0 in /usr/local/lib/python3.10/dist-packages (from scikit-learn) (1.4.2)\n",
            "Requirement already satisfied: threadpoolctl>=3.1.0 in /usr/local/lib/python3.10/dist-packages (from scikit-learn) (3.5.0)\n",
            "Requirement already satisfied: contourpy>=1.0.1 in /usr/local/lib/python3.10/dist-packages (from matplotlib) (1.3.1)\n",
            "Requirement already satisfied: cycler>=0.10 in /usr/local/lib/python3.10/dist-packages (from matplotlib) (0.12.1)\n",
            "Requirement already satisfied: fonttools>=4.22.0 in /usr/local/lib/python3.10/dist-packages (from matplotlib) (4.55.3)\n",
            "Requirement already satisfied: kiwisolver>=1.3.1 in /usr/local/lib/python3.10/dist-packages (from matplotlib) (1.4.8)\n",
            "Requirement already satisfied: pillow>=8 in /usr/local/lib/python3.10/dist-packages (from matplotlib) (11.1.0)\n",
            "Requirement already satisfied: pyparsing>=2.3.1 in /usr/local/lib/python3.10/dist-packages (from matplotlib) (3.2.1)\n",
            "Requirement already satisfied: et-xmlfile in /usr/local/lib/python3.10/dist-packages (from openpyxl) (2.0.0)\n",
            "Requirement already satisfied: six>=1.5 in /usr/local/lib/python3.10/dist-packages (from python-dateutil>=2.8.2->pandas) (1.17.0)\n",
            "Requirement already satisfied: MarkupSafe>=2.0 in /usr/local/lib/python3.10/dist-packages (from jinja2->torch) (3.0.2)\n",
            "Requirement already satisfied: charset-normalizer<4,>=2 in /usr/local/lib/python3.10/dist-packages (from requests->transformers) (3.4.1)\n",
            "Requirement already satisfied: idna<4,>=2.5 in /usr/local/lib/python3.10/dist-packages (from requests->transformers) (2.10)\n",
            "Requirement already satisfied: urllib3<3,>=1.21.1 in /usr/local/lib/python3.10/dist-packages (from requests->transformers) (2.3.0)\n",
            "Requirement already satisfied: certifi>=2017.4.17 in /usr/local/lib/python3.10/dist-packages (from requests->transformers) (2024.12.14)\n"
          ]
        }
      ]
    },
    {
      "cell_type": "markdown",
      "source": [
        "**KÜTÜPHANELERİN YÜKLENMESİ**"
      ],
      "metadata": {
        "id": "IdODsZ3KUoFz"
      }
    },
    {
      "cell_type": "code",
      "execution_count": null,
      "metadata": {
        "colab": {
          "base_uri": "https://localhost:8080/"
        },
        "id": "YBIYU13XN98-",
        "outputId": "737f3455-8b6f-4198-b4df-86b74e1424a4"
      },
      "outputs": [
        {
          "output_type": "execute_result",
          "data": {
            "text/plain": [
              "True"
            ]
          },
          "metadata": {},
          "execution_count": 2
        }
      ],
      "source": [
        "import pandas as pd\n",
        "import zipfile\n",
        "import os\n",
        "import csv\n",
        "import re\n",
        "import nltk\n",
        "import matplotlib.pyplot as plt\n",
        "import seaborn as sns\n",
        "import numpy as np\n",
        "import torch\n",
        "import seaborn as sns\n",
        "import numpy as np\n",
        "from torch.utils.data import Dataset, DataLoader\n",
        "\n",
        "from tqdm import tqdm\n",
        "from sklearn.model_selection import train_test_split\n",
        "from sklearn.metrics import classification_report, confusion_matrix, f1_score, precision_recall_fscore_support\n",
        "from datetime import datetime\n",
        "from typing import Dict, List\n",
        "from collections import defaultdict\n",
        "from torch.utils.data import Dataset, DataLoader\n",
        "from transformers import AutoModelForSequenceClassification, AutoTokenizer, AdamW, get_linear_schedule_with_warmup, pipeline\n",
        "from sklearn.preprocessing import LabelEncoder\n",
        "from sklearn.metrics import classification_report, confusion_matrix\n",
        "from imblearn.over_sampling import RandomOverSampler\n",
        "from sklearn.model_selection import train_test_split\n",
        "from sklearn.feature_extraction.text import TfidfVectorizer\n",
        "from sklearn.ensemble import RandomForestClassifier\n",
        "from nltk.corpus import stopwords\n",
        "from sklearn.pipeline import Pipeline\n",
        "from sklearn.svm import LinearSVC\n",
        "nltk.download('stopwords', quiet=True)"
      ]
    },
    {
      "cell_type": "markdown",
      "source": [
        "**KEŞİFSEL VERİ ANALİZİ VE DÜZENLENMESİ**\n"
      ],
      "metadata": {
        "id": "flRzhFZ9UuhK"
      }
    },
    {
      "cell_type": "code",
      "source": [
        "\n",
        "# 1. Zip dosyasını yüklemek için Colab'ın dosya yükleme aracını kullanın\n",
        "from google.colab import files\n",
        "uploaded = files.upload()"
      ],
      "metadata": {
        "id": "yB-SxqdALEFn"
      },
      "execution_count": null,
      "outputs": []
    },
    {
      "cell_type": "code",
      "execution_count": null,
      "metadata": {
        "id": "ka8et3UbmS9n"
      },
      "outputs": [],
      "source": [
        "\n",
        "# 2. Zip dosyasını çıkarın\n",
        "zip_filename = list(uploaded.keys())[0]  # Yüklenen zip dosyasının adı\n",
        "with zipfile.ZipFile(zip_filename, 'r') as zip_ref:\n",
        "    zip_ref.extractall('extracted_files')  # Dosyaları 'extracted_files' klasörüne çıkarır\n",
        "\n",
        "# 3. Çıkarılan dosyaları listeleyin\n",
        "extracted_files_path = 'extracted_files'\n",
        "csv_files = [f for f in os.listdir(extracted_files_path) if f.endswith('.csv')]\n",
        "\n",
        "# 4. Her dosyanın sütun adlarını görüntüle\n",
        "print(\"CSV Dosyalarının Sütun Adları:\")\n",
        "columns_dict = {}\n",
        "for file in csv_files:\n",
        "    file_path = os.path.join(extracted_files_path, file)\n",
        "    try:\n",
        "        df = pd.read_csv(file_path, nrows=0)  # Sadece sütun isimlerini okumak için\n",
        "        columns_dict[file] = df.columns.tolist()\n",
        "        print(f\"{file}: {df.columns.tolist()}\")\n",
        "    except Exception as e:\n",
        "        print(f\"{file}: Okuma sırasında hata oluştu ({e})\")"
      ]
    },
    {
      "cell_type": "code",
      "execution_count": null,
      "metadata": {
        "colab": {
          "base_uri": "https://localhost:8080/"
        },
        "id": "t9kKDs06RA5l",
        "outputId": "62bd35ce-055e-4068-840c-da3aede64dcc"
      },
      "outputs": [
        {
          "name": "stdout",
          "output_type": "stream",
          "text": [
            "depremGun1tr.csv: 504325 satır alındı.\n",
            "\n",
            "Seçilen sütunlar 'filtered_data2.csv' dosyasına kaydedildi.\n"
          ]
        }
      ],
      "source": [
        "# 4. Sadece `Date`, `Tweet` ve `username` sütunlarını al ve yeni bir CSV dosyasına kaydet\n",
        "columns_to_keep = ['Date', 'Tweet', 'username']  # Gerekli sütunlar\n",
        "filtered_data = []\n",
        "\n",
        "for file in csv_files:\n",
        "    file_path = os.path.join(extracted_files_path, file)\n",
        "    try:\n",
        "        df = pd.read_csv(file_path)\n",
        "        available_columns = [col for col in columns_to_keep if col in df.columns]  # Mevcut sütunları kontrol et\n",
        "        if available_columns:\n",
        "            filtered_df = df[available_columns].dropna()  # Sadece mevcut sütunları al ve boş satırları çıkar\n",
        "            filtered_data.append(filtered_df)\n",
        "            print(f\"{file}: {len(filtered_df)} satır alındı.\")\n",
        "        else:\n",
        "            print(f\"{file}: Gerekli sütunlar bulunamadı.\")\n",
        "    except Exception as e:\n",
        "        print(f\"{file}: Okuma sırasında hata oluştu ({e})\")\n",
        "\n",
        "# 5. Tüm verileri birleştir ve yeni bir CSV dosyasına kaydet\n",
        "if filtered_data:\n",
        "    all_filtered_data = pd.concat(filtered_data, ignore_index=True)\n",
        "    all_filtered_data.to_csv('filtered_data2.csv', index=False)\n",
        "    print(\"\\nSeçilen sütunlar 'filtered_data2.csv' dosyasına kaydedildi.\")\n",
        "else:\n",
        "    print(\"\\nHiçbir dosyada gerekli sütunlar bulunamadı.\")\n"
      ]
    },
    {
      "cell_type": "code",
      "execution_count": null,
      "metadata": {
        "colab": {
          "base_uri": "https://localhost:8080/"
        },
        "id": "Xsob3YT2SVOO",
        "outputId": "e6790aa0-9838-4b5c-8858-b02736d37d69"
      },
      "outputs": [
        {
          "name": "stdout",
          "output_type": "stream",
          "text": [
            "filtered_data2.csv başarıyla okundu.\n",
            "twitter.csv başarıyla okundu.\n",
            "Sütun isimleri uyuşmuyor, lütfen sütunları kontrol edin.\n",
            "\n",
            "Birleştirme işlemi başarısız.\n"
          ]
        }
      ],
      "source": [
        "# 1. Dosya isimlerini tanımlayın\n",
        "file1 = 'filtered_data2.csv'  # İlk CSV dosyası\n",
        "file2 = 'twitter.csv'         # İkinci CSV dosyası\n",
        "\n",
        "# 2. CSV dosyalarını okuyun\n",
        "try:\n",
        "    df1 = pd.read_csv(file1, on_bad_lines='skip', engine='python', encoding='utf-8')\n",
        "    print(f\"{file1} başarıyla okundu.\")\n",
        "except Exception as e:\n",
        "    print(f\"{file1} dosyasını okurken hata oluştu: {e}\")\n",
        "    df1 = pd.DataFrame()  # Hata durumunda boş bir DataFrame oluştur\n",
        "\n",
        "try:\n",
        "    df2 = pd.read_csv(file2, on_bad_lines='skip', engine='python', encoding='utf-8')\n",
        "    print(f\"{file2} başarıyla okundu.\")\n",
        "except Exception as e:\n",
        "    print(f\"{file2} dosyasını okurken hata oluştu: {e}\")\n",
        "    df2 = pd.DataFrame()  # Hata durumunda boş bir DataFrame oluştur\n",
        "\n",
        "# 3. Gerekli sütunları kontrol edin\n",
        "columns_to_keep = ['Date', 'Tweet', 'username']\n",
        "available_columns1 = [col for col in columns_to_keep if col in df1.columns]\n",
        "available_columns2 = [col for col in columns_to_keep if col in df2.columns]\n",
        "\n",
        "# 4. Ortak sütunları alın ve birleştirin\n",
        "if set(available_columns1) == set(available_columns2):\n",
        "    combined_df = pd.concat([df1[available_columns1], df2[available_columns2]], ignore_index=True)\n",
        "    print(\"Dosyalar başarıyla birleştirildi.\")\n",
        "else:\n",
        "    print(\"Sütun isimleri uyuşmuyor, lütfen sütunları kontrol edin.\")\n",
        "    combined_df = None\n",
        "\n",
        "# 5. İlk 10 tweeti görüntüleyin\n",
        "if combined_df is not None:\n",
        "    print(\"\\nBirleştirilmiş verilerin ilk 10 satırı:\")\n",
        "    print(combined_df.head(10))\n",
        "\n",
        "    # Yeni bir CSV dosyasına kaydedin\n",
        "    combined_df.to_csv('combined_data.csv', index=False)\n",
        "    print(\"\\nBirleştirilmiş veriler 'combined_data.csv' dosyasına kaydedildi.\")\n",
        "else:\n",
        "    print(\"\\nBirleştirme işlemi başarısız.\")\n"
      ]
    },
    {
      "cell_type": "code",
      "execution_count": null,
      "metadata": {
        "colab": {
          "base_uri": "https://localhost:8080/"
        },
        "id": "cgEkwjMHS8Dz",
        "outputId": "bc4838cc-4ff6-4beb-a161-7d2a4e8df91d"
      },
      "outputs": [
        {
          "name": "stdout",
          "output_type": "stream",
          "text": [
            "filtered_data2.csv sütun isimleri: Index(['Date', 'Tweet', 'username'], dtype='object')\n",
            "twitter.csv sütun isimleri: Index(['Tarih', 'Kullanıcı', 'Tweet', 'Beğeni', 'Retweet'], dtype='object')\n"
          ]
        }
      ],
      "source": [
        "# Sütun isimlerini görüntüleyin\n",
        "print(\"filtered_data2.csv sütun isimleri:\", df1.columns)\n",
        "print(\"twitter.csv sütun isimleri:\", df2.columns)\n"
      ]
    },
    {
      "cell_type": "code",
      "source": [
        "# CSV dosyasını yükleme\n",
        "file_path = \"tweets_without_duplicates1.csv\"  # Dosya yolunu doğru girin\n",
        "data = pd.read_csv(file_path, on_bad_lines='skip', engine='python', encoding='ISO-8859-1')\n",
        "# encoding='ISO-8859-1' veya 'latin1' veya 'cp1252' olarak değiştirildi\n",
        "\n",
        "# Satır sayısını öğrenme\n",
        "print(f\"Satır sayısı: {len(data)}\")"
      ],
      "metadata": {
        "colab": {
          "base_uri": "https://localhost:8080/"
        },
        "id": "aatGD7nwO91x",
        "outputId": "ee6cd3ca-9f8c-4ce9-a530-5df28c9e966b"
      },
      "execution_count": null,
      "outputs": [
        {
          "output_type": "stream",
          "name": "stdout",
          "text": [
            "Satır sayısı: 529436\n"
          ]
        }
      ]
    },
    {
      "cell_type": "code",
      "execution_count": null,
      "metadata": {
        "id": "JnsXjY2vTLmD"
      },
      "outputs": [],
      "source": [
        "# twitter.csv sütun isimlerini uyumlu hale getirelim\n",
        "df2.rename(columns={'Tarih': 'Date', 'Kullanıcı': 'username'}, inplace=True)\n",
        "\n",
        "# Şimdi her iki DataFrame'de de 'Date', 'Tweet' ve 'username' sütunları olacak\n"
      ]
    },
    {
      "cell_type": "code",
      "execution_count": null,
      "metadata": {
        "colab": {
          "base_uri": "https://localhost:8080/"
        },
        "id": "nE-3UIIHTOg0",
        "outputId": "3ee0a980-e0c3-48d8-bf90-77194e5d88f6"
      },
      "outputs": [
        {
          "name": "stdout",
          "output_type": "stream",
          "text": [
            "Dosyalar başarıyla birleştirildi.\n"
          ]
        }
      ],
      "source": [
        "# 3. Gerekli sütunları kontrol edin\n",
        "columns_to_keep = ['Date', 'Tweet', 'username']\n",
        "available_columns1 = [col for col in columns_to_keep if col in df1.columns]\n",
        "available_columns2 = [col for col in columns_to_keep if col in df2.columns]\n",
        "\n",
        "# 4. Ortak sütunları alın ve birleştirin\n",
        "if set(available_columns1) == set(available_columns2):\n",
        "    combined_df = pd.concat([df1[available_columns1], df2[available_columns2]], ignore_index=True)\n",
        "    print(\"Dosyalar başarıyla birleştirildi.\")\n",
        "else:\n",
        "    print(\"Sütun isimleri uyuşmuyor, lütfen sütunları kontrol edin.\")\n",
        "    combined_df = None\n"
      ]
    },
    {
      "cell_type": "code",
      "execution_count": null,
      "metadata": {
        "colab": {
          "base_uri": "https://localhost:8080/"
        },
        "id": "MFDrgHtNTS77",
        "outputId": "9faf49c8-f9f9-42f0-998b-95dea378bc0b"
      },
      "outputs": [
        {
          "name": "stdout",
          "output_type": "stream",
          "text": [
            "\n",
            "Birleştirilmiş verilerin ilk 10 satırı:\n",
            "                        Date  \\\n",
            "0  2023-02-06 23:59:59+00:00   \n",
            "1  2023-02-06 23:59:58+00:00   \n",
            "2  2023-02-06 23:59:58+00:00   \n",
            "3  2023-02-06 23:59:57+00:00   \n",
            "4  2023-02-06 23:59:57+00:00   \n",
            "5  2023-02-06 23:59:56+00:00   \n",
            "6  2023-02-06 23:59:56+00:00   \n",
            "7  2023-02-06 23:59:55+00:00   \n",
            "8  2023-02-06 23:59:55+00:00   \n",
            "9  2023-02-06 23:59:55+00:00   \n",
            "\n",
            "                                               Tweet         username  \n",
            "0  İstanbulda gök gürültüsü başladı Allah’ım sen ...      Brk34587273  \n",
            "1   Bu gece dualarımız enkaz altında kalanlar içi...   SerbestSabuncu  \n",
            "2  Ülkede afet var fırsatçılar iş başında..!Ülked...  zeynepkacar2504  \n",
            "3  Askerlerimiz kışladan çıksın  Yollar KAPALI  z...       aligsderya  \n",
            "4  Gün suçlu arama; sağa veya sola çamur atma, ik...         hamzacak  \n",
            "5                        Keşke, Keşkee, Keşkeee 🙏🙄            Haruun_  \n",
            "6                                         YAYALIM           sakinoled  \n",
            "7  Adıyaman yardım bekliyor nolur enkaz altınlard...  KbraKoy98945001  \n",
            "8       çorludan toplanıp hataya yardıma gitmek i...          Denzi28  \n",
            "9                       LUTFEN GOREN HERKES RTLESIN    handanakbulut9  \n",
            "\n",
            "Birleştirilmiş veriler 'combined_data.csv' dosyasına kaydedildi.\n"
          ]
        }
      ],
      "source": [
        "# 5. İlk 10 tweeti görüntüleyin\n",
        "if combined_df is not None:\n",
        "    print(\"\\nBirleştirilmiş verilerin ilk 10 satırı:\")\n",
        "    print(combined_df.head(10))\n",
        "\n",
        "    # Yeni bir CSV dosyasına kaydedin\n",
        "    combined_df.to_csv('combined_data.csv', index=False)\n",
        "    print(\"\\nBirleştirilmiş veriler 'combined_data.csv' dosyasına kaydedildi.\")\n",
        "else:\n",
        "    print(\"\\nBirleştirme işlemi başarısız.\")\n"
      ]
    },
    {
      "cell_type": "markdown",
      "source": [
        "**VERİLERİN NORMALİZASYON İŞLEMİNDEN GEÇİRİLMESİ**"
      ],
      "metadata": {
        "id": "ULlfqO6PU5yB"
      }
    },
    {
      "cell_type": "code",
      "execution_count": null,
      "metadata": {
        "colab": {
          "base_uri": "https://localhost:8080/"
        },
        "id": "sOW5VQLxU4He",
        "outputId": "d16cc820-dbf2-4804-c3a9-ffec3d2302bd"
      },
      "outputs": [
        {
          "name": "stdout",
          "output_type": "stream",
          "text": [
            "Veriler normalized_tweets.csv dosyasına başarıyla yazıldı.\n"
          ]
        }
      ],
      "source": [
        "# Dosyanın yolunu belirtin\n",
        "input_file = 'combined_data.csv'  # Girdi dosyasının yolu\n",
        "output_file = 'normalized_tweets.csv'  # Çıktı dosyasının adı\n",
        "\n",
        "# CSV dosyasını oku\n",
        "df = pd.read_csv(input_file, encoding='utf-8')\n",
        "\n",
        "# Tweetleri temizleme fonksiyonu\n",
        "def clean_tweet(tweet):\n",
        "    if isinstance(tweet, str):  # Yalnızca metin verileriyle işlem yap\n",
        "        # URL'leri kaldır\n",
        "        tweet = re.sub(r'http\\S+', '', tweet)\n",
        "        # @mention'ları kaldır\n",
        "        tweet = re.sub(r'@\\S+', '', tweet)\n",
        "        # #hashtag'leri kaldır\n",
        "        tweet = re.sub(r'#\\S+', '', tweet)\n",
        "        # Özel karakterleri kaldır\n",
        "        tweet = re.sub(r'[^\\w\\s]', '', tweet)\n",
        "        # Fazla boşlukları kaldır\n",
        "        tweet = re.sub(r'\\s+', ' ', tweet).strip()\n",
        "    return tweet\n",
        "\n",
        "# Verileri temizle\n",
        "df['Tweet'] = df['Tweet'].apply(clean_tweet)\n",
        "\n",
        "# Gerekli sütunları seç\n",
        "columns_to_keep = ['Date', 'Tweet', 'username']\n",
        "df_filtered = df[columns_to_keep]\n",
        "\n",
        "# Verileri yeni bir CSV dosyasına kaydet\n",
        "df_filtered.to_csv(output_file, index=False, encoding='utf-8')\n",
        "\n",
        "print(f\"Veriler {output_file} dosyasına başarıyla yazıldı.\")\n"
      ]
    },
    {
      "cell_type": "code",
      "execution_count": null,
      "metadata": {
        "colab": {
          "base_uri": "https://localhost:8080/"
        },
        "id": "RlcUoRMoWcXL",
        "outputId": "95fb0075-f696-4fac-b59e-92afb111f10d"
      },
      "outputs": [
        {
          "name": "stdout",
          "output_type": "stream",
          "text": [
            "                         Date         username  \\\n",
            "0   2023-02-06 23:59:59+00:00      Brk34587273   \n",
            "1   2023-02-06 23:59:58+00:00   SerbestSabuncu   \n",
            "2   2023-02-06 23:59:58+00:00  zeynepkacar2504   \n",
            "3   2023-02-06 23:59:57+00:00       aligsderya   \n",
            "4   2023-02-06 23:59:57+00:00         hamzacak   \n",
            "..                        ...              ...   \n",
            "95  2023-02-06 23:59:16+00:00    AliKutayGler1   \n",
            "96  2023-02-06 23:59:16+00:00   _sonhavadiscom   \n",
            "97  2023-02-06 23:59:15+00:00  AndersonT4lisca   \n",
            "98  2023-02-06 23:59:15+00:00     WHATAFEEL1NG   \n",
            "99  2023-02-06 23:59:15+00:00         siimayyy   \n",
            "\n",
            "                                                Tweet  \n",
            "0   İstanbulda gök gürültüsü başladı Allahım sen koru  \n",
            "1   Bu gece dualarımız enkaz altında kalanlar için...  \n",
            "2   Ülkede afet var fırsatçılar iş başındaÜlkede y...  \n",
            "3   Askerlerimiz kışladan çıksın Yollar KAPALI zam...  \n",
            "4   Gün suçlu arama sağa veya sola çamur atma ikti...  \n",
            "..                                                ...  \n",
            "95  muhalefet yapan insanları ısırmaya çakışan kud...  \n",
            "96          Bakan Koca bölgesi hakkında bilgi aktardı  \n",
            "97  Diyarbakır çevresinde dışarıda kalan varsa 200...  \n",
            "98           LUTFEN YAYALIM DIYARBAKIRDA OLANLAR ICIN  \n",
            "99  Adıyaman yardım ulaşmıyor Isınma elektrik prob...  \n",
            "\n",
            "[100 rows x 3 columns]\n"
          ]
        }
      ],
      "source": [
        "\n",
        "# Dosyanın yolunu belirtin\n",
        "input_file = 'normalized_tweets.csv'  # Normalizasyon yapılmış verilerin kaydedildiği dosya\n",
        "\n",
        "# CSV dosyasını oku\n",
        "df = pd.read_csv(input_file, encoding='utf-8')\n",
        "\n",
        "# İlk 100 tweeti görüntüle\n",
        "first_100_tweets = df.head(100)\n",
        "print(first_100_tweets[['Date', 'username', 'Tweet']])\n"
      ]
    },
    {
      "cell_type": "markdown",
      "source": [
        "**TÜRKÇE TWEETLERİN AYRIŞTIRILMASI**"
      ],
      "metadata": {
        "id": "Nk7aP5CaVAzX"
      }
    },
    {
      "cell_type": "code",
      "execution_count": null,
      "metadata": {
        "colab": {
          "base_uri": "https://localhost:8080/"
        },
        "id": "5Ibs8vjf2qbu",
        "outputId": "a48c355e-4b58-421a-8d24-57071da71231"
      },
      "outputs": [
        {
          "name": "stdout",
          "output_type": "stream",
          "text": [
            "Kullanılan cihaz: GPU\n"
          ]
        },
        {
          "name": "stderr",
          "output_type": "stream",
          "text": [
            "Device set to use cuda:0\n"
          ]
        },
        {
          "name": "stdout",
          "output_type": "stream",
          "text": [
            "Veri okunuyor...\n",
            "Toplam 506493 tweet bulundu.\n",
            "Boş tweetler temizlendi. Kalan tweet sayısı: 506470\n",
            "Dil tespiti yapılıyor...\n"
          ]
        },
        {
          "name": "stderr",
          "output_type": "stream",
          "text": [
            "100%|██████████| 15828/15828 [34:27<00:00,  7.65it/s]\n"
          ]
        },
        {
          "name": "stdout",
          "output_type": "stream",
          "text": [
            "\n",
            "İşlem tamamlandı:\n",
            "Toplam tweet: 506493\n",
            "Türkçe tweet: 504056\n",
            "Sonuçlar turkce_tweets1.csv dosyasına kaydedildi.\n"
          ]
        }
      ],
      "source": [
        "def setup_language_detector(device_id=None):\n",
        "    \"\"\"\n",
        "    Dil algılama modelini hazırlar ve en uygun cihazı seçer\n",
        "    \"\"\"\n",
        "    if device_id is None:\n",
        "        device_id = 0 if torch.cuda.is_available() else -1\n",
        "\n",
        "    print(f\"Kullanılan cihaz: {'GPU' if device_id >= 0 else 'CPU'}\")\n",
        "\n",
        "    return pipeline(\n",
        "        \"text-classification\",\n",
        "        model=\"papluca/xlm-roberta-base-language-detection\",\n",
        "        device=device_id,\n",
        "        batch_size=32  # Daha büyük batch boyutu\n",
        "    )\n",
        "\n",
        "def process_tweets(input_file, output_file, lang_identifier, batch_size=32):\n",
        "    \"\"\"\n",
        "    Tweetleri işler ve Türkçe olanları filtreler\n",
        "    \"\"\"\n",
        "    try:\n",
        "        # DataFrame ile okuma (daha hızlı ve verimli)\n",
        "        print(\"Veri okunuyor...\")\n",
        "        df = pd.read_csv(input_file, encoding='utf-8')\n",
        "        total_tweets = len(df)\n",
        "        print(f\"Toplam {total_tweets} tweet bulundu.\")\n",
        "\n",
        "        # Boş tweet kontrolü ve temizlik\n",
        "        df = df.dropna(subset=[df.columns[1]])  # 2. sütundaki boş değerleri temizle\n",
        "        print(f\"Boş tweetler temizlendi. Kalan tweet sayısı: {len(df)}\")\n",
        "\n",
        "        # Tweetleri işle\n",
        "        turkce_tweets = []\n",
        "        tweet_texts = df[df.columns[1]].tolist()  # 2. sütundaki tweetler\n",
        "\n",
        "        print(\"Dil tespiti yapılıyor...\")\n",
        "        for i in tqdm(range(0, len(tweet_texts), batch_size)):\n",
        "            batch = tweet_texts[i:i + batch_size]\n",
        "            try:\n",
        "                results = lang_identifier(batch)\n",
        "\n",
        "                # Türkçe tweetleri seç\n",
        "                for idx, result in enumerate(results):\n",
        "                    if result['label'] == 'tr':\n",
        "                        original_idx = i + idx\n",
        "                        turkce_tweets.append(df.iloc[original_idx])\n",
        "\n",
        "            except Exception as e:\n",
        "                print(f\"Batch işleme hatası (index {i}): {e}\")\n",
        "                continue\n",
        "\n",
        "        # Sonuçları DataFrame'e dönüştür ve kaydet\n",
        "        turkce_df = pd.DataFrame(turkce_tweets)\n",
        "        turkce_df.to_csv(output_file, index=False, encoding='utf-8')\n",
        "\n",
        "        print(\"\\nİşlem tamamlandı:\")\n",
        "        print(f\"Toplam tweet: {total_tweets}\")\n",
        "        print(f\"Türkçe tweet: {len(turkce_tweets)}\")\n",
        "        print(f\"Sonuçlar {output_file} dosyasına kaydedildi.\")\n",
        "\n",
        "    except Exception as e:\n",
        "        print(f\"Genel hata: {e}\")\n",
        "        raise\n",
        "\n",
        "def main():\n",
        "    # Yapılandırma\n",
        "    config = {\n",
        "        'input_file': 'normalized_tweets.csv',\n",
        "        'output_file': 'turkce_tweets1.csv',\n",
        "        'batch_size': 32\n",
        "    }\n",
        "\n",
        "    try:\n",
        "        # CUDA bellek optimizasyonu\n",
        "        if torch.cuda.is_available():\n",
        "            torch.cuda.empty_cache()\n",
        "\n",
        "        # Dil algılama modelini hazırla\n",
        "        lang_identifier = setup_language_detector()\n",
        "\n",
        "        # Tweetleri işle\n",
        "        process_tweets(\n",
        "            config['input_file'],\n",
        "            config['output_file'],\n",
        "            lang_identifier,\n",
        "            config['batch_size']\n",
        "        )\n",
        "\n",
        "    except KeyboardInterrupt:\n",
        "        print(\"\\nİşlem kullanıcı tarafından durduruldu.\")\n",
        "    except Exception as e:\n",
        "        print(f\"Beklenmeyen hata: {e}\")\n",
        "    finally:\n",
        "        if torch.cuda.is_available():\n",
        "            torch.cuda.empty_cache()\n",
        "\n",
        "if __name__ == \"__main__\":\n",
        "    main()"
      ]
    },
    {
      "cell_type": "markdown",
      "source": [
        "**TEKRAR EDEN TWEETLERİN KALDIRILMASI**"
      ],
      "metadata": {
        "id": "-W3jwIJnVIPo"
      }
    },
    {
      "cell_type": "code",
      "execution_count": null,
      "metadata": {
        "colab": {
          "base_uri": "https://localhost:8080/"
        },
        "id": "RSNcof40rvB-",
        "outputId": "1c361b67-7492-4069-f628-609c20f3233d"
      },
      "outputs": [
        {
          "name": "stdout",
          "output_type": "stream",
          "text": [
            "Sütun isimleri:\n",
            "Index(['Date', 'Tweet', 'username'], dtype='object')\n",
            "Sık tekrar eden tweetler:\n",
            "                                                   Tweet  duplicate_count\n",
            "12613                              Geçmiş olsun Türkiyem             2290\n",
            "12543                               Geçmiş olsun Türkiye             1810\n",
            "12437                                       Geçmiş olsun             1249\n",
            "4587                               Allahım sen yardım et             1016\n",
            "4196                             Allah yardımcımız olsun              611\n",
            "...                                                  ...              ...\n",
            "20     05425984563Alpaslan mah Şakayık sokak no 4 enk...                3\n",
            "8      0532 675 81 13 nolu telefondan biraz önce tara...                3\n",
            "11     05357364596Kahramanmaraş Göksun ilçesi Ericek ...                3\n",
            "12     0536 075 46 29Tüm iller için Afada enkaz altın...                3\n",
            "15     05360754629tüm iller için Afada enkaz altındak...                3\n",
            "\n",
            "[10432 rows x 2 columns]\n",
            "\n",
            "Toplam tweet sayısı: 504056\n",
            "Tekrar eden tweetler çıkarıldıktan sonraki tweet sayısı: 419227\n"
          ]
        }
      ],
      "source": [
        "\n",
        "# CSV dosyasını okuma\n",
        "df = pd.read_csv('turkce_tweets1.csv')\n",
        "print(\"Sütun isimleri:\")\n",
        "print(df.columns)\n",
        "\n",
        "# Tekrar eden tweetlerin detaylı analizi\n",
        "duplicate_tweet_counts = df[df.duplicated(subset=['Tweet'], keep=False)]\\\n",
        "    .groupby('Tweet').size().reset_index(name='duplicate_count')\n",
        "\n",
        "# Tekrar sayısına göre azalan sıralama\n",
        "duplicate_tweet_counts = duplicate_tweet_counts.sort_values('duplicate_count', ascending=False)\n",
        "\n",
        "# Sadece 2'den fazla tekrar eden tweetleri gösterme\n",
        "frequent_duplicates = duplicate_tweet_counts[duplicate_tweet_counts['duplicate_count'] > 2]\n",
        "\n",
        "print(\"Sık tekrar eden tweetler:\")\n",
        "print(frequent_duplicates)\n",
        "\n",
        "# Tekrar eden tweetleri temizleme (ilk örnekleri tutma)\n",
        "df_cleaned = df.drop_duplicates(subset=['Tweet'], keep='first')\n",
        "\n",
        "print(\"\\nToplam tweet sayısı:\", len(df))\n",
        "print(\"Tekrar eden tweetler çıkarıldıktan sonraki tweet sayısı:\", len(df_cleaned))\n",
        "\n",
        "# Temizlenmiş veriyi kaydetme\n",
        "df_cleaned.to_csv('tweets_without_duplicates1.csv', index=False)\n",
        "\n"
      ]
    },
    {
      "cell_type": "markdown",
      "source": [
        "**ETİKETLENMEK ÜZERE VERİ KAYDEDİLMESİ**"
      ],
      "metadata": {
        "id": "sSstkK45VNmt"
      }
    },
    {
      "cell_type": "code",
      "source": [
        "\n",
        "# CSV dosyasını özel parametrelerle oku\n",
        "df = pd.read_csv('tweets_without_duplicates1.csv',\n",
        "                 sep=',',                # virgül ayracı\n",
        "                 quoting=1,              # tırnak işaretlerini dikkate al\n",
        "                 quotechar='\"',          # tırnak karakterini belirt\n",
        "                 encoding='ISO-8859-1',  # Encoding formatı 'ISO-8859-1' olarak değiştirildi\n",
        "                 on_bad_lines='skip',    # hatalı satırları atla\n",
        "                 low_memory=False)       # düşük bellek uyarılarını engelle\n",
        "\n",
        "# Rastgele örneklem al\n",
        "sample_size = 15000\n",
        "sampled_tweets = df.sample(n=sample_size, random_state=42)\n",
        "\n",
        "# Örneklem verilerini Excel dosyasına kaydet\n",
        "output_file = 'tweets_to_label.xlsx'\n",
        "sampled_tweets.to_excel(output_file, index=False, engine='openpyxl')  # Excel yazma işlemi\n",
        "print(f\"Örneklem verileri '{output_file}' dosyasına kaydedildi.\")\n"
      ],
      "metadata": {
        "colab": {
          "base_uri": "https://localhost:8080/"
        },
        "id": "RjgxNXnONekv",
        "outputId": "af776e34-4e88-4ec2-ea6c-d59b4d92f30e"
      },
      "execution_count": null,
      "outputs": [
        {
          "output_type": "stream",
          "name": "stdout",
          "text": [
            "Örneklem verileri 'tweets_to_label.xlsx' dosyasına kaydedildi.\n"
          ]
        }
      ]
    },
    {
      "cell_type": "code",
      "source": [
        "# İlk birkaç satırı görüntüle\n",
        "!head -n 5 '/content/tweets_without_duplicates1.csv'\n",
        "\n",
        "# Dosyanın sütun yapısını göster\n",
        "print(\"\\nDosya sütunları:\")\n",
        "print(pd.read_csv('/content/tweets_without_duplicates1.csv', nrows=1))"
      ],
      "metadata": {
        "id": "MuhK10L0We88",
        "outputId": "41e1a7da-e965-4a69-a84a-dc1ba1fac2ad",
        "colab": {
          "base_uri": "https://localhost:8080/"
        }
      },
      "execution_count": null,
      "outputs": [
        {
          "output_type": "stream",
          "name": "stdout",
          "text": [
            "Date,Tweet,username\n",
            "2023-02-06 23:59:59+00:00,İstanbulda gök gürültüsü başladı Allahım sen koru,Brk34587273\n",
            "2023-02-06 23:59:58+00:00,Bu gece dualarımız enkaz altında kalanlar için Allah yar ve yardımcıları olsun,SerbestSabuncu\n",
            "2023-02-06 23:59:58+00:00,Ülkede afet var fırsatçılar iş başındaÜlkede yas var fırsatçılar iş başında Ülkede yaralılar var hayatını kaybedenler var enkaz altında kalan hayatlar var ama bizim ülkemizde fırsattan istifade eden şerefsiz haysiyetsiz ahlam yoksunu esnaf var,zeynepkacar2504\n",
            "2023-02-06 23:59:57+00:00,Askerlerimiz kışladan çıksın Yollar KAPALI zaman yok,aligsderya\n",
            "\n",
            "Dosya sütunları:\n",
            "                        Date  \\\n",
            "0  2023-02-06 23:59:59+00:00   \n",
            "\n",
            "                                               Tweet     username  \n",
            "0  İstanbulda gök gürültüsü başladı Allahım sen koru  Brk34587273  \n"
          ]
        }
      ]
    },
    {
      "cell_type": "markdown",
      "source": [
        "**VERİLERİN KELİME AĞIRLIKLIKLARINA GÖRE ETİKETLENMESİ**"
      ],
      "metadata": {
        "id": "N6LNSDaRVUj0"
      }
    },
    {
      "cell_type": "code",
      "execution_count": null,
      "metadata": {
        "colab": {
          "base_uri": "https://localhost:8080/"
        },
        "id": "se8hnFg2s4DZ",
        "outputId": "59c9fb4e-9f5a-463b-fa3b-781aad9e66ec"
      },
      "outputs": [
        {
          "output_type": "stream",
          "name": "stdout",
          "text": [
            "Analiz tamamlandı. Sonuçlar categorized_tweets7.xlsx dosyasına kaydedildi.\n"
          ]
        }
      ],
      "source": [
        "\n",
        "class TweetCategorizer:\n",
        "    def __init__(self):\n",
        "        self.categories = {\n",
        "            'acil_yardim': {\n",
        "                'keywords': {\n",
        "                    # Çok yüksek öncelikli anahtar kelimeler (ağırlık: 5)\n",
        "                    'enkaz altında': 5.0,\n",
        "                    'göçük altında': 5.0,\n",
        "                    'ses geliyor': 5.0,\n",
        "                    'yaşam belirtisi': 5.0,\n",
        "                    'canlı var': 5.0,\n",
        "                    'kurtarın': 5.0,\n",
        "\n",
        "                    # Yüksek öncelikli anahtar kelimeler (ağırlık: 4)\n",
        "                    'enkaz var': 4.0,\n",
        "                    'enkaz altından': 4.0,\n",
        "                    'göçük var': 4.0,\n",
        "                    'altında kaldı': 4.0,\n",
        "                    'sesler geliyor': 4.0,\n",
        "                    'mahsur kaldı': 4.0,\n",
        "                    'yardım edin': 4.0,\n",
        "                },\n",
        "                'base_priority': 3,\n",
        "                'description': 'Acil yardım ve kurtarma çağrıları'\n",
        "            },\n",
        "            'yardim_ihtiyac': {\n",
        "                'keywords': {\n",
        "                    # Yüksek öncelikli (ağırlık: 4)\n",
        "                    'acil ambulans': 4.0,\n",
        "                    'acil yardım': 4.0,\n",
        "                    '112 acil': 4.0,\n",
        "\n",
        "                    # Orta-yüksek öncelikli (ağırlık: 3)\n",
        "                    'ambulans': 3.0,\n",
        "                    'arama kurtarma': 3.0,\n",
        "                    'acil ekip': 3.0,\n",
        "                    'acil müdahale': 3.0,\n",
        "\n",
        "                    # Orta öncelikli (ağırlık: 2)\n",
        "                    'yardım': 2.0,\n",
        "                    'ekip': 2.0,\n",
        "                    '112': 2.0,\n",
        "                },\n",
        "                'base_priority': 2,\n",
        "                'description': 'Yardım ve müdahale ihtiyacı'\n",
        "            },\n",
        "            'insani_yardim': {\n",
        "                'keywords': {\n",
        "                    # Temel ihtiyaçlar (ağırlık: 3)\n",
        "                    'bebek maması': 3.0,\n",
        "                    'ilaç': 3.0,\n",
        "                    'su': 3.0,\n",
        "                    'çadır': 3.0,\n",
        "                    'battaniye': 3.0,\n",
        "                    'ısıtıcı': 3.0,\n",
        "\n",
        "                    # Önemli ihtiyaçlar (ağırlık: 2.5)\n",
        "                    'gıda': 2.5,\n",
        "                    'kıyafet': 2.5,\n",
        "                    'hijyen': 2.5,\n",
        "                    'temel ihtiyaç': 2.5,\n",
        "                    'barınma': 2.5,\n",
        "                    'konteyner': 2.5,\n",
        "                    'bebek bezi': 2.5,\n",
        "                    'erzak': 2.5,\n",
        "\n",
        "                    # Diğer ihtiyaçlar (ağırlık: 2)\n",
        "                    'mont': 2.0,\n",
        "                    'kazak': 2.0,\n",
        "                    'pantolon': 2.0,\n",
        "                    'ayakkabı': 2.0,\n",
        "                    'bot': 2.0,\n",
        "                    'eldiven': 2.0,\n",
        "                    'bere': 2.0,\n",
        "                    'atkı': 2.0,\n",
        "                    'iç çamaşırı': 2.0,\n",
        "                    'termal': 2.0,\n",
        "                    'sabun': 2.0,\n",
        "                    'şampuan': 2.0,\n",
        "                    'diş fırçası': 2.0,\n",
        "                    'diş macunu': 2.0,\n",
        "                    'ped': 2.0,\n",
        "                    'tuvalet kağıdı': 2.0,\n",
        "                    'dezenfektan': 2.0,\n",
        "                    'maske': 2.0,\n",
        "                },\n",
        "                'base_priority': 1,\n",
        "                'description': 'İnsani yardım ve temel ihtiyaçlar'\n",
        "            },\n",
        "            'altyapi_hasar': {\n",
        "                'keywords': {\n",
        "                    # Kritik hasar (ağırlık: 4)\n",
        "                    'bina yıkıldı': 4.0,\n",
        "                    'ağır hasarlı bina': 4.0,\n",
        "                    'bina çökme': 4.0,\n",
        "\n",
        "                    # Önemli hasar (ağırlık: 3)\n",
        "                    'hasar tespit': 3.0,\n",
        "                    'hasarlı bina': 3.0,\n",
        "                    'yıkılma riski': 3.0,\n",
        "                    'altyapı hasarı': 3.0,\n",
        "\n",
        "                    # Genel hasar (ağırlık: 2)\n",
        "                    'yıkılan': 2.0,\n",
        "                    'hasar': 2.0,\n",
        "                    'bina': 2.0,\n",
        "                    'apartman': 2.0,\n",
        "                    'altyapı': 2.0,\n",
        "                    'su kesintisi': 2.0,\n",
        "                    'doğalgaz': 2.0,\n",
        "                    'hasarlı': 2.0,\n",
        "                    'çatlak': 2.0,\n",
        "                },\n",
        "                'base_priority': 1,\n",
        "                'description': 'Altyapı ve hasar durumu'\n",
        "            },\n",
        "            'koordinasyon': {\n",
        "                'keywords': {\n",
        "                    # Yüksek öncelikli koordinasyon (ağırlık: 3)\n",
        "                    'kriz masası': 3.0,\n",
        "                    'acil toplanma': 3.0,\n",
        "                    'yardım koordinasyon': 3.0,\n",
        "\n",
        "                    # Orta öncelikli koordinasyon (ağırlık: 2)\n",
        "                    'toplanma': 2.0,\n",
        "                    'merkez': 2.0,\n",
        "                    'dağıtım': 2.0,\n",
        "                    'organizasyon': 2.0,\n",
        "                    'gönüllü': 2.0,\n",
        "                    'kayıt': 2.0,\n",
        "                    'bilgilendirme': 2.0,\n",
        "                    'koordinasyon': 2.0,\n",
        "                    'yetkili': 2.0,\n",
        "                    'belediye': 2.0,\n",
        "                    'valilik': 2.0,\n",
        "                },\n",
        "                'base_priority': 1,\n",
        "                'description': 'Koordinasyon ve organizasyon'\n",
        "            },\n",
        "            'diğer': {\n",
        "                'keywords': {},\n",
        "                'base_priority': 0,\n",
        "                'description': 'Diğer kategorilere uymayan içerikler'\n",
        "            }\n",
        "        }\n",
        "\n",
        "        # Konum desenleri ve ağırlıkları\n",
        "        self.location_patterns = {\n",
        "            r'(?i)(mahallesi|mah\\.)': 2.0,\n",
        "            r'(?i)(caddesi|cd\\.)': 1.5,\n",
        "            r'(?i)(sokağı|sok\\.)': 1.5,\n",
        "            r'(?i)(apartmanı|apt\\.)': 2.0,\n",
        "            r'(?i)(sitesi)': 1.5,\n",
        "            r'(?i)(hatay|antakya|iskenderun|defne|samandağ|kahramanmaraş|maraş|osmaniye|adıyaman|gaziantep|adana)': 1.0,\n",
        "            r'(?i)(\\d+\\s*((no|numara|daire|kat|blok):?\\s*\\d+|no|numara|daire|kat|blok))': 2.0,\n",
        "            r'(?i)(karşısı|yanı|arkası|önü|bitişiği|yakını)': 1.0\n",
        "        }\n",
        "\n",
        "        # Aciliyet belirten ifadeler ve ağırlıkları\n",
        "        self.urgency_indicators = {\n",
        "            'acil': 2.0,\n",
        "            'çok acil': 2.5,\n",
        "            'acilen': 2.0,\n",
        "            'hemen': 1.5,\n",
        "            'lütfen': 1.2,\n",
        "            'önemli': 1.5,\n",
        "            'kritik': 2.0\n",
        "        }\n",
        "\n",
        "    def calculate_location_score(self, text: str) -> float:\n",
        "        \"\"\"Tweet'teki konum bilgisinin ağırlıklı skorunu hesaplar\"\"\"\n",
        "        location_score = 0\n",
        "        for pattern, weight in self.location_patterns.items():\n",
        "            matches = len(re.findall(pattern, text.lower()))\n",
        "            if matches > 0:\n",
        "                location_score += matches * weight\n",
        "        return location_score\n",
        "\n",
        "    def calculate_urgency_score(self, text: str) -> float:\n",
        "        \"\"\"Tweet'teki aciliyet belirten ifadelerin ağırlıklı skorunu hesaplar\"\"\"\n",
        "        urgency_score = 0\n",
        "        for indicator, weight in self.urgency_indicators.items():\n",
        "            count = text.lower().count(indicator)\n",
        "            if count > 0:\n",
        "                urgency_score += count * weight\n",
        "        return urgency_score\n",
        "\n",
        "    def categorize_tweet(self, tweet_text: str) -> str:\n",
        "        \"\"\"Tweet metnini geliştirilmiş ağırlıklandırma sistemi ile kategorize eder\"\"\"\n",
        "        if not tweet_text or not isinstance(tweet_text, str):\n",
        "            return self.categories['diğer']['description']\n",
        "\n",
        "        tweet_text = tweet_text.lower().strip()\n",
        "\n",
        "        # Konum ve aciliyet skorlarını hesapla\n",
        "        location_score = self.calculate_location_score(tweet_text)\n",
        "        urgency_score = self.calculate_urgency_score(tweet_text)\n",
        "\n",
        "        # Kategorileri değerlendir\n",
        "        max_score = 0\n",
        "        category_result = self.categories['diğer']['description']\n",
        "\n",
        "        for category, data in self.categories.items():\n",
        "            score = 0\n",
        "\n",
        "            # Anahtar kelimeleri kontrol et\n",
        "            for keyword, weight in data['keywords'].items():\n",
        "                if keyword in tweet_text:\n",
        "                    # Kelimenin pozisyonuna göre ek ağırlık\n",
        "                    position_multiplier = 1.2 if tweet_text.startswith(keyword) else 1.0\n",
        "\n",
        "                    # Kelimenin tweet içindeki sayısı\n",
        "                    count = tweet_text.count(keyword)\n",
        "\n",
        "                    # Toplam skoru hesapla\n",
        "                    keyword_score = count * weight * position_multiplier\n",
        "                    score += keyword_score\n",
        "\n",
        "            # Base priority ve diğer faktörleri ekle\n",
        "            score = score * data['base_priority']\n",
        "\n",
        "            # Konum ve aciliyet skorlarını ekle\n",
        "            if category in ['acil_yardim', 'yardim_ihtiyac']:\n",
        "                score += location_score * 2  # Konum bilgisi acil kategorilerde daha önemli\n",
        "                score += urgency_score * 1.5  # Aciliyet ifadeleri de önemli\n",
        "\n",
        "            if score > max_score:\n",
        "                max_score = score\n",
        "                category_result = data['description']\n",
        "\n",
        "        return category_result\n",
        "\n",
        "    def process_tweet_file(self, input_file: str, output_file: str):\n",
        "        \"\"\"Tweet dosyasını işler ve sonuçları yazar\"\"\"\n",
        "        try:\n",
        "            df = pd.read_excel(input_file)\n",
        "            df['Kategori'] = df['Tweet'].apply(self.categorize_tweet)\n",
        "            df.to_excel(output_file, index=False)\n",
        "            print(f\"Analiz tamamlandı. Sonuçlar {output_file} dosyasına kaydedildi.\")\n",
        "\n",
        "        except Exception as e:\n",
        "            print(f\"İşlem sırasında hata oluştu: {str(e)}\")\n",
        "            raise\n",
        "\n",
        "if __name__ == \"__main__\":\n",
        "    # TweetCategorizer sınıfını başlat\n",
        "    categorizer = TweetCategorizer()\n",
        "\n",
        "    # Input ve output dosya isimlerini belirle\n",
        "    input_file = \"tweets_to_label.xlsx\"  # Input dosya adını kendi dosya adınızla değiştirin\n",
        "    output_file = \"categorized_tweets7.xlsx\"\n",
        "\n",
        "    # Tweet'leri kategorize et\n",
        "    categorizer.process_tweet_file(input_file, output_file)"
      ]
    },
    {
      "cell_type": "code",
      "source": [],
      "metadata": {
        "id": "uyObe-PJahj7"
      },
      "execution_count": null,
      "outputs": []
    },
    {
      "cell_type": "markdown",
      "source": [
        "**ETİKETLENEN VERİLERLE MAKİNE ÖĞRENMESİ GERÇEKLEŞTİRİLMESİ**"
      ],
      "metadata": {
        "id": "OV65oqqkVcx4"
      }
    },
    {
      "cell_type": "code",
      "execution_count": null,
      "metadata": {
        "colab": {
          "base_uri": "https://localhost:8080/",
          "height": 1000
        },
        "id": "GZifi7obr9tF",
        "outputId": "91062fea-7607-4c74-ad9d-185e641898f1"
      },
      "outputs": [
        {
          "output_type": "stream",
          "name": "stdout",
          "text": [
            "Using device: cuda\n"
          ]
        },
        {
          "output_type": "stream",
          "name": "stderr",
          "text": [
            "Some weights of BertForSequenceClassification were not initialized from the model checkpoint at dbmdz/bert-base-turkish-uncased and are newly initialized: ['classifier.bias', 'classifier.weight']\n",
            "You should probably TRAIN this model on a down-stream task to be able to use it for predictions and inference.\n"
          ]
        },
        {
          "output_type": "stream",
          "name": "stdout",
          "text": [
            "\n",
            "Veri Seti Analizi:\n",
            "Toplam örnek sayısı: 15000\n",
            "Eğitim seti: 12000\n",
            "Doğrulama seti: 3000\n",
            "\n",
            "Kategori Dağılımı:\n",
            "Kategori\n",
            "Diğer kategorilere uymayan içerikler    6513\n",
            "Acil yardım ve kurtarma çağrıları       3956\n",
            "İnsani yardım ve temel ihtiyaçlar       2788\n",
            "Yardım ve müdahale ihtiyacı              725\n",
            "Altyapı ve hasar durumu                  576\n",
            "Koordinasyon ve organizasyon             442\n",
            "Name: count, dtype: int64\n"
          ]
        },
        {
          "output_type": "stream",
          "name": "stderr",
          "text": [
            "Epoch 1/4: 100%|██████████| 750/750 [04:25<00:00,  2.83it/s, training_loss=0.057]\n"
          ]
        },
        {
          "output_type": "stream",
          "name": "stdout",
          "text": [
            "\n",
            "Epoch 1:\n",
            "Training Loss: 0.5211\n",
            "Validation Loss: 0.1887\n",
            "Accuracy: 0.9497\n",
            "F1 Score (Macro): 0.9323\n",
            "F1 Score (Weighted): 0.9492\n",
            "En iyi model kaydedildi.\n"
          ]
        },
        {
          "output_type": "stream",
          "name": "stderr",
          "text": [
            "Epoch 2/4: 100%|██████████| 750/750 [04:23<00:00,  2.84it/s, training_loss=0.571]\n"
          ]
        },
        {
          "output_type": "stream",
          "name": "stdout",
          "text": [
            "\n",
            "Epoch 2:\n",
            "Training Loss: 0.1642\n",
            "Validation Loss: 0.1183\n",
            "Accuracy: 0.9700\n",
            "F1 Score (Macro): 0.9595\n",
            "F1 Score (Weighted): 0.9699\n",
            "En iyi model kaydedildi.\n"
          ]
        },
        {
          "output_type": "stream",
          "name": "stderr",
          "text": [
            "Epoch 3/4: 100%|██████████| 750/750 [04:24<00:00,  2.84it/s, training_loss=0.095]\n"
          ]
        },
        {
          "output_type": "stream",
          "name": "stdout",
          "text": [
            "\n",
            "Epoch 3:\n",
            "Training Loss: 0.1005\n",
            "Validation Loss: 0.1291\n",
            "Accuracy: 0.9660\n",
            "F1 Score (Macro): 0.9538\n",
            "F1 Score (Weighted): 0.9660\n"
          ]
        },
        {
          "output_type": "stream",
          "name": "stderr",
          "text": [
            "Epoch 4/4: 100%|██████████| 750/750 [04:23<00:00,  2.85it/s, training_loss=0.085]\n"
          ]
        },
        {
          "output_type": "stream",
          "name": "stdout",
          "text": [
            "\n",
            "Epoch 4:\n",
            "Training Loss: 0.0657\n",
            "Validation Loss: 0.1185\n",
            "Accuracy: 0.9707\n",
            "F1 Score (Macro): 0.9563\n",
            "F1 Score (Weighted): 0.9706\n",
            "\n",
            "En İyi Model Metrikleri:\n",
            "Best Validation Loss: 0.1183\n",
            "Best Accuracy: 0.9700\n",
            "Best F1 Score (Macro): 0.9595\n",
            "Best F1 Score (Weighted): 0.9699\n",
            "\n",
            "Detaylı Sınıflandırma Raporu:\n",
            "                                      precision    recall  f1-score   support\n",
            "\n",
            "   Acil yardım ve kurtarma çağrıları       0.97      0.96      0.97       768\n",
            "             Altyapı ve hasar durumu       0.89      0.98      0.93       135\n",
            "Diğer kategorilere uymayan içerikler       0.97      0.99      0.98      1338\n",
            "        Koordinasyon ve organizasyon       0.96      0.92      0.94        79\n",
            "         Yardım ve müdahale ihtiyacı       0.96      1.00      0.98       128\n",
            "   İnsani yardım ve temel ihtiyaçlar       0.99      0.93      0.96       552\n",
            "\n",
            "                            accuracy                           0.97      3000\n",
            "                           macro avg       0.96      0.96      0.96      3000\n",
            "                        weighted avg       0.97      0.97      0.97      3000\n",
            "\n"
          ]
        },
        {
          "output_type": "display_data",
          "data": {
            "text/plain": [
              "<Figure size 1500x1000 with 3 Axes>"
            ],
            "image/png": "[encoded data removed]"
          },
          "metadata": {}
        },
        {
          "output_type": "display_data",
          "data": {
            "text/plain": [
              "<Figure size 1200x1000 with 2 Axes>"
            ],
            "image/png": "[encoded data removed]"
          },
          "metadata": {}
        },
        {
          "output_type": "display_data",
          "data": {
            "text/plain": [
              "<Figure size 1500x600 with 0 Axes>"
            ]
          },
          "metadata": {}
        },
        {
          "output_type": "display_data",
          "data": {
            "text/plain": [
              "<Figure size 1500x600 with 1 Axes>"
            ],
            "image/png": "[encoded data removed]"
          },
          "metadata": {}
        }
      ],
      "source": [
        "class TweetDataset(Dataset):\n",
        "    def __init__(self, tweets, labels, tokenizer, max_len=128):\n",
        "        self.tweets = tweets\n",
        "        self.labels = labels\n",
        "        self.tokenizer = tokenizer\n",
        "        self.max_len = max_len\n",
        "\n",
        "    def __len__(self):\n",
        "        return len(self.tweets)\n",
        "\n",
        "    def __getitem__(self, idx):\n",
        "        tweet = str(self.tweets.iloc[idx])\n",
        "        label = self.labels.iloc[idx]\n",
        "\n",
        "        encoding = self.tokenizer.encode_plus(\n",
        "            tweet,\n",
        "            add_special_tokens=True,\n",
        "            max_length=self.max_len,\n",
        "            return_token_type_ids=False,\n",
        "            padding='max_length',\n",
        "            truncation=True,\n",
        "            return_attention_mask=True,\n",
        "            return_tensors='pt'\n",
        "        )\n",
        "\n",
        "        return {\n",
        "            'input_ids': encoding['input_ids'].flatten(),\n",
        "            'attention_mask': encoding['attention_mask'].flatten(),\n",
        "            'labels': torch.tensor(label, dtype=torch.long)\n",
        "        }\n",
        "\n",
        "class ModelMetricsTracker:\n",
        "    def __init__(self):\n",
        "        self.epoch_metrics = []\n",
        "        self.best_metrics = None\n",
        "        self.timestamp = datetime.now().strftime(\"%Y%m%d_%H%M%S\")\n",
        "        self.output_dir = f\"model_analysis_{self.timestamp}\"\n",
        "        os.makedirs(self.output_dir, exist_ok=True)\n",
        "\n",
        "    def add_epoch_metrics(self, epoch, metrics):\n",
        "        metrics['epoch'] = epoch\n",
        "        self.epoch_metrics.append(metrics)\n",
        "\n",
        "    def update_best_metrics(self, metrics):\n",
        "        if self.best_metrics is None or metrics['val_loss'] < self.best_metrics['val_loss']:\n",
        "            self.best_metrics = metrics\n",
        "\n",
        "    def save_metrics(self):\n",
        "        # Epoch metrikleri\n",
        "        df_epochs = pd.DataFrame(self.epoch_metrics)\n",
        "        df_epochs.to_csv(f\"{self.output_dir}/epoch_metrics.csv\", index=False)\n",
        "\n",
        "        # En iyi metrikler\n",
        "        if self.best_metrics:\n",
        "            df_best = pd.DataFrame([self.best_metrics])\n",
        "            df_best.to_csv(f\"{self.output_dir}/best_metrics.csv\", index=False)\n",
        "\n",
        "    def plot_training_curves(self):\n",
        "        df = pd.DataFrame(self.epoch_metrics)\n",
        "\n",
        "        plt.figure(figsize=(15, 10))\n",
        "\n",
        "        # Loss grafiği\n",
        "        plt.subplot(2, 2, 1)\n",
        "        plt.plot(df['epoch'], df['train_loss'], 'b-', label='Training Loss')\n",
        "        plt.plot(df['epoch'], df['val_loss'], 'r-', label='Validation Loss')\n",
        "        plt.title('Loss Curves')\n",
        "        plt.xlabel('Epoch')\n",
        "        plt.ylabel('Loss')\n",
        "        plt.legend()\n",
        "\n",
        "        # Accuracy grafiği\n",
        "        plt.subplot(2, 2, 2)\n",
        "        plt.plot(df['epoch'], df['accuracy'], 'g-', label='Accuracy')\n",
        "        plt.title('Accuracy Curve')\n",
        "        plt.xlabel('Epoch')\n",
        "        plt.ylabel('Accuracy')\n",
        "        plt.legend()\n",
        "\n",
        "        # F1 skorları\n",
        "        plt.subplot(2, 2, 3)\n",
        "        plt.plot(df['epoch'], df['f1_macro'], 'b-', label='F1 Macro')\n",
        "        plt.plot(df['epoch'], df['f1_weighted'], 'r-', label='F1 Weighted')\n",
        "        plt.title('F1 Scores')\n",
        "        plt.xlabel('Epoch')\n",
        "        plt.ylabel('F1 Score')\n",
        "        plt.legend()\n",
        "\n",
        "        plt.tight_layout()\n",
        "        plt.savefig(f\"{self.output_dir}/training_curves.png\")\n",
        "        plt.show()\n",
        "\n",
        "class TransformerTweetClassifier:\n",
        "    def __init__(self, model_name='dbmdz/bert-base-turkish-uncased', learning_rate=2e-5):\n",
        "        self.device = torch.device(\"cuda\" if torch.cuda.is_available() else \"cpu\")\n",
        "        print(f\"Using device: {self.device}\")\n",
        "\n",
        "        self.tokenizer = AutoTokenizer.from_pretrained(model_name)\n",
        "        self.model = AutoModelForSequenceClassification.from_pretrained(\n",
        "            model_name,\n",
        "            num_labels=6,\n",
        "            problem_type=\"single_label_classification\"\n",
        "        ).to(self.device)\n",
        "\n",
        "        self.optimizer = torch.optim.AdamW(self.model.parameters(), lr=learning_rate)\n",
        "        self.label_encoder = LabelEncoder()\n",
        "        self.metrics_tracker = ModelMetricsTracker()\n",
        "\n",
        "        self.categories = [\n",
        "            \"Acil yardım ve kurtarma çağrıları\",\n",
        "            \"Yardım ve müdahale ihtiyacı\",\n",
        "            \"İnsani yardım ve temel ihtiyaçlar\",\n",
        "            \"Altyapı ve hasar durumu\",\n",
        "            \"Koordinasyon ve organizasyon\",\n",
        "            \"Diğer kategorilere uymayan içerikler\"\n",
        "        ]\n",
        "\n",
        "    def plot_confusion_matrix(self, y_true, y_pred, categories):\n",
        "        cm = confusion_matrix(y_true, y_pred)\n",
        "        plt.figure(figsize=(12, 10))\n",
        "        sns.heatmap(cm, annot=True, fmt='d', cmap='Blues',\n",
        "                   xticklabels=categories, yticklabels=categories)\n",
        "        plt.title('Confusion Matrix')\n",
        "        plt.xlabel('Predicted')\n",
        "        plt.ylabel('True')\n",
        "        plt.xticks(rotation=45, ha='right')\n",
        "        plt.yticks(rotation=0)\n",
        "        plt.tight_layout()\n",
        "        plt.savefig(f\"{self.metrics_tracker.output_dir}/confusion_matrix.png\")\n",
        "        plt.show()\n",
        "\n",
        "    def plot_category_metrics(self, y_true, y_pred, categories):\n",
        "        precision, recall, f1, support = precision_recall_fscore_support(y_true, y_pred)\n",
        "\n",
        "        metrics_df = pd.DataFrame({\n",
        "            'Category': categories,\n",
        "            'Precision': precision,\n",
        "            'Recall': recall,\n",
        "            'F1': f1,\n",
        "            'Support': support\n",
        "        })\n",
        "\n",
        "        plt.figure(figsize=(15, 6))\n",
        "\n",
        "        # Precision, Recall, F1 grafiği\n",
        "        metrics_df.plot(x='Category', y=['Precision', 'Recall', 'F1'],\n",
        "                       kind='bar', width=0.8, figsize=(15, 6))\n",
        "        plt.title('Category-wise Metrics')\n",
        "        plt.xlabel('Category')\n",
        "        plt.ylabel('Score')\n",
        "        plt.xticks(rotation=45, ha='right')\n",
        "        plt.legend(bbox_to_anchor=(1.05, 1), loc='upper left')\n",
        "        plt.tight_layout()\n",
        "        plt.savefig(f\"{self.metrics_tracker.output_dir}/category_metrics.png\")\n",
        "        plt.show()\n",
        "\n",
        "        # Metrikleri kaydet\n",
        "        metrics_df.to_csv(f\"{self.metrics_tracker.output_dir}/category_metrics.csv\", index=False)\n",
        "\n",
        "    def evaluate_epoch(self, val_loader, epoch):\n",
        "        self.model.eval()\n",
        "        val_loss = 0\n",
        "        all_preds = []\n",
        "        all_labels = []\n",
        "\n",
        "        with torch.no_grad():\n",
        "            for batch in val_loader:\n",
        "                input_ids = batch['input_ids'].to(self.device)\n",
        "                attention_mask = batch['attention_mask'].to(self.device)\n",
        "                labels = batch['labels'].to(self.device)\n",
        "\n",
        "                outputs = self.model(\n",
        "                    input_ids,\n",
        "                    attention_mask=attention_mask,\n",
        "                    labels=labels\n",
        "                )\n",
        "\n",
        "                val_loss += outputs.loss.item()\n",
        "                predictions = torch.argmax(outputs.logits, dim=1)\n",
        "\n",
        "                all_preds.extend(predictions.cpu().numpy())\n",
        "                all_labels.extend(labels.cpu().numpy())\n",
        "\n",
        "        # Metrikleri hesapla\n",
        "        avg_val_loss = val_loss / len(val_loader)\n",
        "        accuracy = (np.array(all_preds) == np.array(all_labels)).mean()\n",
        "        f1_macro = f1_score(all_labels, all_preds, average='macro')\n",
        "        f1_weighted = f1_score(all_labels, all_preds, average='weighted')\n",
        "\n",
        "        metrics = {\n",
        "            'epoch': epoch,\n",
        "            'val_loss': avg_val_loss,\n",
        "            'accuracy': accuracy,\n",
        "            'f1_macro': f1_macro,\n",
        "            'f1_weighted': f1_weighted,\n",
        "            'predictions': all_preds,\n",
        "            'true_labels': all_labels\n",
        "        }\n",
        "\n",
        "        return metrics\n",
        "\n",
        "    def train(self, train_data_path, epochs=4, batch_size=16):\n",
        "        # Veriyi yükle ve hazırla\n",
        "        df = pd.read_excel(train_data_path)\n",
        "        df.dropna(subset=['Tweet', 'Kategori'], inplace=True)\n",
        "        df['Kategori'] = df['Kategori'].map(lambda x: str(x).strip())\n",
        "        df['encoded_labels'] = self.label_encoder.fit_transform(df['Kategori'])\n",
        "\n",
        "        # Veri setini böl\n",
        "        train_df, val_df = train_test_split(df, test_size=0.2, random_state=42)\n",
        "\n",
        "        # DataLoader'ları oluştur\n",
        "        train_dataset = TweetDataset(train_df['Tweet'], train_df['encoded_labels'], self.tokenizer)\n",
        "        train_loader = DataLoader(train_dataset, batch_size=batch_size, shuffle=True)\n",
        "\n",
        "        val_dataset = TweetDataset(val_df['Tweet'], val_df['encoded_labels'], self.tokenizer)\n",
        "        val_loader = DataLoader(val_dataset, batch_size=batch_size)\n",
        "\n",
        "        # Başlangıç analizi\n",
        "        print(\"\\nVeri Seti Analizi:\")\n",
        "        print(f\"Toplam örnek sayısı: {len(df)}\")\n",
        "        print(f\"Eğitim seti: {len(train_df)}\")\n",
        "        print(f\"Doğrulama seti: {len(val_df)}\")\n",
        "\n",
        "        category_dist = df['Kategori'].value_counts()\n",
        "        print(\"\\nKategori Dağılımı:\")\n",
        "        print(category_dist)\n",
        "\n",
        "        # Eğitim döngüsü\n",
        "        for epoch in range(epochs):\n",
        "            self.model.train()\n",
        "            train_loss = 0\n",
        "\n",
        "            # Eğitim\n",
        "            progress_bar = tqdm(train_loader, desc=f'Epoch {epoch + 1}/{epochs}')\n",
        "            for batch in progress_bar:\n",
        "                self.optimizer.zero_grad()\n",
        "\n",
        "                input_ids = batch['input_ids'].to(self.device)\n",
        "                attention_mask = batch['attention_mask'].to(self.device)\n",
        "                labels = batch['labels'].to(self.device)\n",
        "\n",
        "                outputs = self.model(\n",
        "                    input_ids,\n",
        "                    attention_mask=attention_mask,\n",
        "                    labels=labels\n",
        "                )\n",
        "\n",
        "                loss = outputs.loss\n",
        "                train_loss += loss.item()\n",
        "\n",
        "                loss.backward()\n",
        "                self.optimizer.step()\n",
        "\n",
        "                # Progress bar güncelle\n",
        "                progress_bar.set_postfix({'training_loss': f'{loss.item():.3f}'})\n",
        "\n",
        "            avg_train_loss = train_loss / len(train_loader)\n",
        "\n",
        "            # Değerlendirme\n",
        "            eval_metrics = self.evaluate_epoch(val_loader, epoch + 1)\n",
        "            eval_metrics['train_loss'] = avg_train_loss\n",
        "\n",
        "            # Metrikleri kaydet ve göster\n",
        "            self.metrics_tracker.add_epoch_metrics(epoch + 1, eval_metrics)\n",
        "\n",
        "            print(f'\\nEpoch {epoch + 1}:')\n",
        "            print(f'Training Loss: {avg_train_loss:.4f}')\n",
        "            print(f'Validation Loss: {eval_metrics[\"val_loss\"]:.4f}')\n",
        "            print(f'Accuracy: {eval_metrics[\"accuracy\"]:.4f}')\n",
        "            print(f'F1 Score (Macro): {eval_metrics[\"f1_macro\"]:.4f}')\n",
        "            print(f'F1 Score (Weighted): {eval_metrics[\"f1_weighted\"]:.4f}')\n",
        "\n",
        "            # En iyi modeli kaydet\n",
        "            self.metrics_tracker.update_best_metrics(eval_metrics)\n",
        "            if self.metrics_tracker.best_metrics == eval_metrics:\n",
        "                torch.save(self.model, f\"{self.metrics_tracker.output_dir}/best_model_full.pth\")\n",
        "                print(\"En iyi model kaydedildi.\")\n",
        "\n",
        "\n",
        "        # Eğitim sonrası analizler\n",
        "        best_metrics = self.metrics_tracker.best_metrics\n",
        "\n",
        "        print(\"\\nEn İyi Model Metrikleri:\")\n",
        "        print(f\"Best Validation Loss: {best_metrics['val_loss']:.4f}\")\n",
        "        print(f\"Best Accuracy: {best_metrics['accuracy']:.4f}\")\n",
        "        print(f\"Best F1 Score (Macro): {best_metrics['f1_macro']:.4f}\")\n",
        "        print(f\"Best F1 Score (Weighted): {best_metrics['f1_weighted']:.4f}\")\n",
        "\n",
        "        # Detaylı sınıflandırma raporu\n",
        "        print(\"\\nDetaylı Sınıflandırma Raporu:\")\n",
        "        print(classification_report(best_metrics['true_labels'],\n",
        "                                 best_metrics['predictions'],\n",
        "                                 target_names=self.label_encoder.classes_))\n",
        "\n",
        "        # Görselleştirmeler\n",
        "        self.metrics_tracker.plot_training_curves()\n",
        "        self.plot_confusion_matrix(best_metrics['true_labels'],\n",
        "                                 best_metrics['predictions'],\n",
        "                                 self.label_encoder.classes_)\n",
        "        self.plot_category_metrics(best_metrics['true_labels'],\n",
        "                                 best_metrics['predictions'],\n",
        "                                 self.label_encoder.classes_)\n",
        "\n",
        "        # Tüm metrikleri kaydet\n",
        "        self.metrics_tracker.save_metrics()\n",
        "\n",
        "if __name__ == \"__main__\":\n",
        "    try:\n",
        "        classifier = TransformerTweetClassifier()\n",
        "        train_data_path = 'categorized_tweets7.xlsx'\n",
        "        classifier.train(train_data_path, epochs=4, batch_size=16)\n",
        "    except Exception as e:\n",
        "        print(f\"Hata oluştu: {str(e)}\")"
      ]
    },
    {
      "cell_type": "code",
      "source": [
        "import shutil\n",
        "\n",
        "# Klasörü zip dosyasına dönüştür\n",
        "shutil.make_archive(\"/content/model_analysis_20250112_171255\", \"zip\", \"/content/model_analysis_20250112_171255\")\n",
        "\n"
      ],
      "metadata": {
        "colab": {
          "base_uri": "https://localhost:8080/",
          "height": 35
        },
        "id": "0XaSDsIVgTj7",
        "outputId": "121830ab-dc87-4a02-fae9-7a5f0ce02e56"
      },
      "execution_count": null,
      "outputs": [
        {
          "output_type": "execute_result",
          "data": {
            "text/plain": [
              "'/content/model_analysis_20250112_171255.zip'"
            ],
            "application/vnd.google.colaboratory.intrinsic+json": {
              "type": "string"
            }
          },
          "metadata": {},
          "execution_count": 10
        }
      ]
    },
    {
      "cell_type": "code",
      "source": [
        "class TweetPredictor:\n",
        "    def __init__(self, model_path, model_name='dbmdz/bert-base-turkish-uncased'):\n",
        "        self.device = torch.device(\"cuda\" if torch.cuda.is_available() else \"cpu\")\n",
        "        print(f\"Using device: {self.device}\")\n",
        "\n",
        "        # Model ve tokenizer'ı yükle\n",
        "        self.tokenizer = AutoTokenizer.from_pretrained(model_name)\n",
        "        self.model = AutoModelForSequenceClassification.from_pretrained(\n",
        "            model_name,\n",
        "            num_labels=6,\n",
        "            problem_type=\"single_label_classification\"\n",
        "        ).to(self.device)\n",
        "\n",
        "        # Eğitilmiş model ağırlıklarını yükle\n",
        "        # Load the entire model\n",
        "        loaded_model = torch.load(model_path, map_location=self.device)\n",
        "        # If loaded_model is an instance of BertForSequenceClassification,\n",
        "        # use it directly\n",
        "        if isinstance(loaded_model, type(self.model)):\n",
        "            self.model = loaded_model\n",
        "        # Otherwise, it's likely a state_dict, so load as before\n",
        "        else:\n",
        "            self.model.load_state_dict(loaded_model)\n",
        "        self.model.eval()\n",
        "\n",
        "        self.categories = [\n",
        "            \"Acil yardım ve kurtarma çağrıları\",\n",
        "            \"Yardım ve müdahale ihtiyacı\",\n",
        "            \"İnsani yardım ve temel ihtiyaçlar\",\n",
        "            \"Altyapı ve hasar durumu\",\n",
        "            \"Koordinasyon ve organizasyon\",\n",
        "            \"Diğer kategorilere uymayan içerikler\"\n",
        "        ]\n",
        "\n",
        "    def predict_batch(self, texts, batch_size=32):\n",
        "        dataset = TweetDataset(pd.Series(texts), pd.Series([0]*len(texts)), self.tokenizer)\n",
        "        dataloader = DataLoader(dataset, batch_size=batch_size)\n",
        "\n",
        "        predictions = []\n",
        "        prediction_probs = []\n",
        "\n",
        "        with torch.no_grad():\n",
        "            for batch in tqdm(dataloader, desc=\"Predicting\"):\n",
        "                input_ids = batch['input_ids'].to(self.device)\n",
        "                attention_mask = batch['attention_mask'].to(self.device)\n",
        "\n",
        "                outputs = self.model(input_ids, attention_mask=attention_mask)\n",
        "                logits = outputs.logits\n",
        "                probs = torch.softmax(logits, dim=1)\n",
        "\n",
        "                preds = torch.argmax(logits, dim=1)\n",
        "\n",
        "                predictions.extend(preds.cpu().numpy())\n",
        "                prediction_probs.extend(probs.cpu().numpy())\n",
        "\n",
        "        return predictions, prediction_probs\n",
        "\n",
        "    def predict_categories(self, csv_path, text_column='Tweet', batch_size=32):\n",
        "        # CSV dosyasını oku\n",
        "        df = pd.read_csv(csv_path)\n",
        "        texts = df[text_column].astype(str).tolist()\n",
        "\n",
        "        # Tahminleri yap\n",
        "        predictions, prediction_probs = self.predict_batch(texts, batch_size)\n",
        "\n",
        "        # Sonuçları DataFrame'e ekle\n",
        "        df['predicted_category'] = [self.categories[pred] for pred in predictions]\n",
        "\n",
        "        # Tahmin güvenlik skorlarını ekle\n",
        "        confidence_scores = [max(probs) for probs in prediction_probs]\n",
        "        df['prediction_confidence'] = confidence_scores\n",
        "\n",
        "        # Sonuçları kaydet\n",
        "        output_path = 'tweets_with_predictions.csv'\n",
        "        df.to_csv(output_path, index=False)\n",
        "\n",
        "        # Kategori dağılımını göster\n",
        "        category_dist = df['predicted_category'].value_counts()\n",
        "        print(\"\\nTahmin Edilen Kategori Dağılımı:\")\n",
        "        print(category_dist)\n",
        "\n",
        "        return df\n",
        "\n",
        "# Kullanım örneği\n",
        "def main():\n",
        "    model_path = \"/content/model_analysis_20250112_171255/best_model_full.pth\"  # Gerçek model path'ini kullanın\n",
        "    predictor = TweetPredictor(model_path)\n",
        "\n",
        "    # Tahminleri yap\n",
        "    predictions_df = predictor.predict_categories(\n",
        "        csv_path='tweets_without_duplicates1.csv',\n",
        "        text_column='Tweet',  # CSV'nizdeki tweet sütununun adını buraya yazın\n",
        "        batch_size=32\n",
        "    )\n",
        "\n",
        "    print(\"\\nTahminler tweets_with_predictions.csv dosyasına kaydedildi.\")\n",
        "\n",
        "if __name__ == \"__main__\":\n",
        "    main()"
      ],
      "metadata": {
        "colab": {
          "base_uri": "https://localhost:8080/"
        },
        "id": "g8zw1hMjwS9w",
        "outputId": "dd918599-a705-45c5-9389-564c7a10a294"
      },
      "execution_count": null,
      "outputs": [
        {
          "metadata": {
            "tags": null
          },
          "name": "stdout",
          "output_type": "stream",
          "text": [
            "Using device: cuda\n"
          ]
        },
        {
          "output_type": "stream",
          "name": "stderr",
          "text": [
            "Some weights of BertForSequenceClassification were not initialized from the model checkpoint at dbmdz/bert-base-turkish-uncased and are newly initialized: ['classifier.bias', 'classifier.weight']\n",
            "You should probably TRAIN this model on a down-stream task to be able to use it for predictions and inference.\n",
            "<ipython-input-15-3726da04f8ad>:16: FutureWarning: You are using `torch.load` with `weights_only=False` (the current default value), which uses the default pickle module implicitly. It is possible to construct malicious pickle data which will execute arbitrary code during unpickling (See https://github.com/pytorch/pytorch/blob/main/SECURITY.md#untrusted-models for more details). In a future release, the default value for `weights_only` will be flipped to `True`. This limits the functions that could be executed during unpickling. Arbitrary objects will no longer be allowed to be loaded via this mode unless they are explicitly allowlisted by the user via `torch.serialization.add_safe_globals`. We recommend you start setting `weights_only=True` for any use case where you don't have full control of the loaded file. Please open an issue on GitHub for any issues related to this experimental feature.\n",
            "  loaded_model = torch.load(model_path, map_location=self.device)\n",
            "Predicting: 100%|██████████| 13101/13101 [46:48<00:00,  4.66it/s]\n"
          ]
        },
        {
          "output_type": "stream",
          "name": "stdout",
          "text": [
            "\n",
            "Tahmin Edilen Kategori Dağılımı:\n",
            "predicted_category\n",
            "İnsani yardım ve temel ihtiyaçlar       166261\n",
            "Acil yardım ve kurtarma çağrıları       117505\n",
            "Diğer kategorilere uymayan içerikler     86523\n",
            "Koordinasyon ve organizasyon             22230\n",
            "Yardım ve müdahale ihtiyacı              16495\n",
            "Altyapı ve hasar durumu                  10213\n",
            "Name: count, dtype: int64\n",
            "\n",
            "Tahminler tweets_with_predictions.csv dosyasına kaydedildi.\n"
          ]
        }
      ]
    },
    {
      "cell_type": "code",
      "source": [
        "import pandas as pd\n",
        "\n",
        "# CSV dosyasının yolunu belirtin\n",
        "csv_path = 'tweets_with_predictions.csv'  # Dosya adınızı buraya yazın\n",
        "\n",
        "# CSV dosyasını oku\n",
        "df = pd.read_csv(csv_path)\n",
        "\n",
        "# Tweet sütunundaki toplam satır sayısını hesapla\n",
        "tweet_column = 'Tweet'  # Tweet sütununuzun adı\n",
        "tweet_count = df[tweet_column].dropna().shape[0]\n",
        "\n",
        "print(f\"CSV dosyasında toplam {tweet_count} tweet var.\")\n"
      ],
      "metadata": {
        "colab": {
          "base_uri": "https://localhost:8080/"
        },
        "id": "8o3J1s77Vz7i",
        "outputId": "388cec65-e8db-4243-9482-0cf6240c6d3f"
      },
      "execution_count": null,
      "outputs": [
        {
          "output_type": "stream",
          "name": "stdout",
          "text": [
            "CSV dosyasında toplam 419227 tweet var.\n"
          ]
        }
      ]
    },
    {
      "cell_type": "code",
      "source": [
        "import zipfile\n",
        "\n",
        "# CSV dosyasının adı\n",
        "csv_filename = 'tweets_with_predictions.csv'\n",
        "\n",
        "# ZIP dosyasının adı\n",
        "zip_filename = 'tweets.zip'\n",
        "\n",
        "# ZIP dosyasını oluştur ve CSV'yi ekle\n",
        "with zipfile.ZipFile(zip_filename, 'w') as zipf:\n",
        "    zipf.write(csv_filename)\n",
        "\n",
        "print(f\"{zip_filename} oluşturuldu.\")\n"
      ],
      "metadata": {
        "id": "g0BiZvUGWE_r"
      },
      "execution_count": null,
      "outputs": []
    }
  ],
  "metadata": {
    "accelerator": "GPU",
    "colab": {
      "gpuType": "T4",
      "provenance": []
    },
    "kernelspec": {
      "display_name": "Python 3",
      "name": "python3"
    },
    "language_info": {
      "name": "python"
    }
  },
  "nbformat": 4,
  "nbformat_minor": 0
}